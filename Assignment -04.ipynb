{
 "cells": [
  {
   "cell_type": "markdown",
   "id": "9ade80a1-9baf-4378-98da-7adf783d7afb",
   "metadata": {},
   "source": [
    "# Assignment 4 Solutions"
   ]
  },
  {
   "cell_type": "markdown",
   "id": "4b6639c2-1f4e-420c-9415-c013a9518d68",
   "metadata": {},
   "source": [
    "#### 1.What exactly is `[ ]`?\n",
    "**Ans**: The empty list represented by `[]` is a list that contains no items."
   ]
  },
  {
   "cell_type": "markdown",
   "id": "c6e73e4b-2b9b-45bb-9a1b-a1d699f82b55",
   "metadata": {},
   "source": [
    "#### 2.In a list of values stored in a variable called spam, how would you assign the value 'hello' as the third value? (Assume [2, 4, 6, 8, 10] are in spam.) \n",
    "**Ans:** `spam[2]='hello'` "
   ]
  },
  {
   "cell_type": "code",
   "execution_count": 2,
   "id": "dcf1e675-8ff0-49ed-8a26-1b6d4ec5164f",
   "metadata": {},
   "outputs": [
    {
     "name": "stdout",
     "output_type": "stream",
     "text": [
      "before indexing [2, 4, 6, 8, 10]\n",
      "after indexing [2, 4, 'hello', 8, 10]\n"
     ]
    }
   ],
   "source": [
    "# Example\n",
    "spam=[2,4,6,8,10]\n",
    "print(\"before indexing\", spam)\n",
    "spam[2]='hello' #List uses zero based indexing\n",
    "print(\"after indexing\", spam)"
   ]
  },
  {
   "cell_type": "markdown",
   "id": "66bc6803-e0e3-4822-b6b2-b6f34e846f1a",
   "metadata": {},
   "source": [
    "## Let's pretend the spam includes the list ['a','b','c',d'] for the next three queries."
   ]
  },
  {
   "cell_type": "markdown",
   "id": "e52c8adc-9523-4abe-a074-9253d5869336",
   "metadata": {},
   "source": [
    "#### 3. What is the value of `spam[int(int('3'*2)//11)]` ?\n",
    "**Ans:** `'d'` (Note that '3' * 2 is the string '33', which is passed to int() before being divided by 11.\n",
    "     This eventually evaluates to 3, `spam[3]` is equal to `d`.)"
   ]
  },
  {
   "cell_type": "code",
   "execution_count": 7,
   "id": "80132139-8d88-4440-8fd6-ced214e8a41a",
   "metadata": {},
   "outputs": [
    {
     "name": "stdout",
     "output_type": "stream",
     "text": [
      "spam[int(int('3'*2)//11)] -> d\n"
     ]
    }
   ],
   "source": [
    "spam=['a','b','c','d']\n",
    "print(\"spam[int(int('3'*2)//11)] ->\",spam[int(int('3'*2)//11)])"
   ]
  },
  {
   "cell_type": "markdown",
   "id": "b51ce359-30a5-4b98-ace8-94578f140039",
   "metadata": {},
   "source": [
    "#### 4. What is the value of spam[-1]?\n",
    "**Ans:** `'d'` (Lists support Negative indexing, Hence `spam[-1]` returs `'d'`)"
   ]
  },
  {
   "cell_type": "code",
   "execution_count": 8,
   "id": "5e3779b2-4f06-4416-b86b-0b8c33f11f6e",
   "metadata": {},
   "outputs": [
    {
     "name": "stdout",
     "output_type": "stream",
     "text": [
      "spam[-1] ->  d\n"
     ]
    }
   ],
   "source": [
    "spam=['a','b','c','d']\n",
    "print('spam[-1] -> ',spam[-1])"
   ]
  },
  {
   "cell_type": "markdown",
   "id": "d7abd773-9b4d-4f0e-b209-d192156df86e",
   "metadata": {},
   "source": [
    "#### 5. What is the value of spam[:2]?\n",
    "**Ans:** `spam[:2]` returns all elements in the list spam from 0 to 2 excluding 2"
   ]
  },
  {
   "cell_type": "code",
   "execution_count": 10,
   "id": "1c8dedcd-2afa-4be1-8d7f-125c07490cc9",
   "metadata": {},
   "outputs": [
    {
     "name": "stdout",
     "output_type": "stream",
     "text": [
      "['a', 'b', 'c', 'd']\n",
      "['a', 'b']\n"
     ]
    }
   ],
   "source": [
    "print(spam)\n",
    "print(spam[:2])"
   ]
  },
  {
   "cell_type": "markdown",
   "id": "c0a74937-b0ba-49f9-a337-0d5dedc91c91",
   "metadata": {},
   "source": [
    "## Let's pretend bacon has the list [3.14,'cat',11,'cat',True] for the next three question"
   ]
  },
  {
   "cell_type": "markdown",
   "id": "1514033d-8b06-4f4c-9c55-101ffde63d08",
   "metadata": {},
   "source": [
    "#### 6. What is the value of bacon.index('cat')?\n",
    "**Ans:** The value of `bacon.index('cat')` is `1` (Note: index method returns the index of first occuerence of `'cat'`)"
   ]
  },
  {
   "cell_type": "code",
   "execution_count": 12,
   "id": "c94d95e6-1500-4439-9caa-645e946decc5",
   "metadata": {},
   "outputs": [
    {
     "name": "stdout",
     "output_type": "stream",
     "text": [
      "bacon.index('cat') -> 1\n"
     ]
    }
   ],
   "source": [
    "bacon=[3.14,'cat',11,'cat',True]\n",
    "print(\"bacon.index('cat') ->\",bacon.index('cat'))"
   ]
  },
  {
   "cell_type": "markdown",
   "id": "b5c939de-8b21-4158-9c45-ec65540a8cac",
   "metadata": {},
   "source": [
    "#### 7. How does bacon.append(99) change the look of the list value in bacon?\n",
    "**Ans:** The `append` method adds new elements to the end of the list"
   ]
  },
  {
   "cell_type": "code",
   "execution_count": 13,
   "id": "995aa3c4-3d52-49ff-acdc-98169624bd2d",
   "metadata": {},
   "outputs": [
    {
     "name": "stdout",
     "output_type": "stream",
     "text": [
      "[3.14, 'cat', 11, 'cat', True]\n",
      "[3.14, 'cat', 11, 'cat', True, 99]\n"
     ]
    }
   ],
   "source": [
    "# Example\n",
    "print(bacon)\n",
    "bacon.append(99) # appends 99 to the end of the list\n",
    "print(bacon)"
   ]
  },
  {
   "cell_type": "markdown",
   "id": "388580bd-6e80-48dd-b810-769cefc26f7b",
   "metadata": {},
   "source": [
    "#### 8. How does bacon.remove('cat') change the look of the list in bacon?\n",
    "**Ans:** The `remove` method removes the first occurence of the element in the list"
   ]
  },
  {
   "cell_type": "code",
   "execution_count": 14,
   "id": "bdc866d9-bf9c-4d16-912c-bb5ef6dbe596",
   "metadata": {},
   "outputs": [
    {
     "name": "stdout",
     "output_type": "stream",
     "text": [
      "[3.14, 'cat', 11, 'cat', True, 99]\n",
      "[3.14, 11, 'cat', True, 99]\n"
     ]
    }
   ],
   "source": [
    "print(bacon)\n",
    "bacon.remove('cat')\n",
    "print(bacon)"
   ]
  },
  {
   "cell_type": "markdown",
   "id": "951ba804-c7b8-46e8-b3b8-e3eeaf12e935",
   "metadata": {},
   "source": [
    "#### 9.what are the list concatenation and list replication operations?\n",
    "**Ans:** The operator for list concatenation is `+`, while the operator for replication is `*`. "
   ]
  },
  {
   "cell_type": "code",
   "execution_count": 15,
   "id": "55d7c59c-c2e2-4a7a-a748-3c6d0d1cc4fd",
   "metadata": {},
   "outputs": [
    {
     "name": "stdout",
     "output_type": "stream",
     "text": [
      "[2, 3, 4, 5, 1, 2, 3]\n",
      "[1, 2, 3, 1, 2, 3]\n"
     ]
    }
   ],
   "source": [
    "# Example\n",
    "list_1 = [2,3,4,5]\n",
    "list_2 = [1,2,3]\n",
    "print(list_1 + list_2) # List Concatenation\n",
    "print(list_2*2) # List Replication"
   ]
  },
  {
   "cell_type": "markdown",
   "id": "d62d0ff8-4a0d-4e2c-9e4f-85afe78c567f",
   "metadata": {},
   "source": [
    "#### 10.what is the difference between the list method append() and insert()?\n",
    "**Ans:** While append() will add values only to the end of a list, insert() can add them anywhere in the list based on index mentioned as parameter."
   ]
  },
  {
   "cell_type": "code",
   "execution_count": 18,
   "id": "bbb71aaf-9434-4a09-b6a3-be0b3012fce3",
   "metadata": {},
   "outputs": [
    {
     "name": "stdout",
     "output_type": "stream",
     "text": [
      "[1, 2, 3, 4, 5, 6]\n",
      "[1, 2, 3, 4, 5, 6, 'Demo']\n"
     ]
    }
   ],
   "source": [
    "#Examples\n",
    "list1 = [1,2,3,4,5]\n",
    "list1.append(6)\n",
    "print(list1)\n",
    "list1.insert(7,'Demo') ## If index is not present, item added at last\n",
    "print(list1)"
   ]
  },
  {
   "cell_type": "markdown",
   "id": "8fd0305a-e608-40c8-9783-340d915b27d6",
   "metadata": {},
   "source": [
    "#### 11. What are the two methods for removing items from a list?\n",
    "**Ans:** The `pop` method and the `remove()` method are two ways to remove values from a list\n",
    "\n",
    "The `remove()` method is used to remove the first occurrence of a specified value from the list. It takes a single argument, which is the value to be removed from the list.\n",
    "\n",
    "The `pop()` method is used to remove and return an element from a specific index in the list. It takes an optional index argument, which specifies the index of the element to be removed. If no index is specified, the last element of the list is removed and returned.\n"
   ]
  },
  {
   "cell_type": "code",
   "execution_count": 21,
   "id": "88b22f80-5e2b-4cd3-904c-29239df28637",
   "metadata": {},
   "outputs": [
    {
     "name": "stdout",
     "output_type": "stream",
     "text": [
      "[1, 3, 2, 4]\n",
      "[1, 2, 4]\n",
      "3\n"
     ]
    }
   ],
   "source": [
    "# Example\n",
    "my_list = [1, 2, 3, 2, 4]\n",
    "my_list.remove(2)\n",
    "print(my_list)  # Output: [1, 3, 2, 4]\n",
    "removed_element = my_list.pop(1) # Remove first index element(3)\n",
    "print(my_list)         # Output: [1, 2, 4]\n",
    "print(removed_element) # Output: 3"
   ]
  },
  {
   "cell_type": "markdown",
   "id": "d50f0f83-4eda-4b94-ba2f-a2896153a578",
   "metadata": {},
   "source": [
    "#### 12. Describe how list values and string values are identical.\n",
    "**Ans:** Both lists and strings can be passed to `len()` function, have indexes and slices, can be used in `for` loops, can be concatenated or replicated, and can be used with the `in` and `not in` operators."
   ]
  },
  {
   "cell_type": "markdown",
   "id": "558366ca-1468-4fbd-acb8-647bfc47f944",
   "metadata": {},
   "source": [
    "#### 13. What's the difference between tuples and lists?\n",
    "**Ans:** Lists are `Mutable`, `Indexable` and `Slicable`. they can have values added, removed, or changed. Tuples are `Immutable` but `Indexable` and `Slicable`. the tuple values cannot be changed at all. Also, tuples are represented using parentheses, `()`, while lists use the square brackets, `[]`."
   ]
  },
  {
   "cell_type": "markdown",
   "id": "266ebb5f-0c83-44ea-86a2-4af4a513bbaf",
   "metadata": {},
   "source": [
    "#### 14. How do you type a tuple value that only contains the integer 42?\n",
    "**Ans:**(42,) (The trailing comma is mandatory. otherwise its considered as a int by python Interpreter)"
   ]
  },
  {
   "cell_type": "code",
   "execution_count": 23,
   "id": "601482b7-d8d8-4811-ae29-0d10472f15e9",
   "metadata": {},
   "outputs": [
    {
     "name": "stdout",
     "output_type": "stream",
     "text": [
      "<class 'int'>\n",
      "<class 'tuple'>\n"
     ]
    }
   ],
   "source": [
    "tup1=(42) # Considered as int\n",
    "tup2=(42,) # Considered as tuple\n",
    "print(type(tup1))\n",
    "print(type(tup2))"
   ]
  },
  {
   "cell_type": "markdown",
   "id": "96a264a2-16a0-4092-be0c-768db43c7bec",
   "metadata": {},
   "source": [
    "#### 15. How do you get a list value's tuple form? How do you get a tuple value's list form?\n",
    "**Ans:** The tuple() and list() functions, respectively are used to convert a list to tuple and vice versa"
   ]
  },
  {
   "cell_type": "markdown",
   "id": "eccc8dac-22fc-487c-8b74-fcb64c8f972b",
   "metadata": {},
   "source": [
    "#### 16. Variables that \"contain\" list values are not necessarily lists themselves. Instead, what do they contain?\n",
    "**Ans**: They contain references to list values."
   ]
  },
  {
   "cell_type": "markdown",
   "id": "0f053a12-1669-4d86-b178-225a16073c6c",
   "metadata": {},
   "source": [
    "#### 17. How do you distinguish between copy.copy() and copy.deepcopy()?\n",
    "**Ans:** The `copy.copy()` function will do a shallow copy of a list, while the `copy.deepcopy()` function will do a deep copy of a list. Shallow copies are typically faster and use less memory than deep copies because they do not duplicate nested objects. while In a deep copy, a new object is created along with completely new copies of all nested objects within the original object. and deep copies are typically slower and use more memory than shallow copies because they recursively duplicate nested objects"
   ]
  },
  {
   "cell_type": "code",
   "execution_count": 24,
   "id": "4529b5cc-27d8-4d26-9e01-c4999974eea7",
   "metadata": {},
   "outputs": [
    {
     "name": "stdout",
     "output_type": "stream",
     "text": [
      "[[100, 2, 3], [4, 5, 6]]\n",
      "[[1, 2, 3], [4, 5, 6]]\n"
     ]
    }
   ],
   "source": [
    "import copy\n",
    "\n",
    "original_list = [[1, 2, 3], [4, 5, 6]]\n",
    "deepcopied_list = copy.deepcopy(original_list)\n",
    "\n",
    "original_list[0][0] = 100\n",
    "print(original_list)    # Output: [[100, 2, 3], [4, 5, 6]]\n",
    "print(deepcopied_list)  # Output: [[1, 2, 3], [4, 5, 6]]\n"
   ]
  },
  {
   "cell_type": "code",
   "execution_count": null,
   "id": "faea4d8e-be29-431a-a67e-fb7c90cb6b90",
   "metadata": {},
   "outputs": [],
   "source": []
  }
 ],
 "metadata": {
  "kernelspec": {
   "display_name": "Python 3 (ipykernel)",
   "language": "python",
   "name": "python3"
  },
  "language_info": {
   "codemirror_mode": {
    "name": "ipython",
    "version": 3
   },
   "file_extension": ".py",
   "mimetype": "text/x-python",
   "name": "python",
   "nbconvert_exporter": "python",
   "pygments_lexer": "ipython3",
   "version": "3.12.2"
  }
 },
 "nbformat": 4,
 "nbformat_minor": 5
}
