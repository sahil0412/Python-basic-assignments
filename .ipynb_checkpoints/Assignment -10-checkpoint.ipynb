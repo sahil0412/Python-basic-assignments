{
 "cells": [
  {
   "cell_type": "markdown",
   "id": "9e0f89d2-1845-4115-bfb3-d31fdf6c3420",
   "metadata": {},
   "source": [
    "# Assignment 10 Solutions"
   ]
  },
  {
   "cell_type": "markdown",
   "id": "66f78ec0-9676-4e02-99fb-51354cd1413c",
   "metadata": {},
   "source": [
    "#### 1. How do you distinguish between shutil.copy() and shutil.copytree()?\n",
    "**Ans:** `shutil.copy()` method is used to copy the contents of a file from one file to another file/folder, it primary takes two arguments `src`,`dest`, `src` represents the file to be copied where as destination refers to the file/folder to where the `src` data should be copied\n",
    "\n",
    "`shutil.copytree()` function is used to copy the entire contents of a folder to other folder. it also takes two arguments `src` & `dest`, it copies all the content recursively and stores it in `dest`. \n",
    "\n",
    "So, `shutil.copy()` is used to copy a single file, while `shutil.copytree()` is used to copy an entire directory tree. Both functions provide different levels of functionality for file and directory copying operations in Python."
   ]
  },
  {
   "cell_type": "markdown",
   "id": "03957b6d-ba3e-4d63-9c50-4c965b232529",
   "metadata": {},
   "source": [
    "#### 2. What function is used to rename files??\n",
    "**Ans:** `os.rename()` function is used to rename files or directories using a python program, this function takes two arguments `src` and `dest`, `src` represents the name file/directory which we want to rename, whereas `dest` represents the new name of the file/directory."
   ]
  },
  {
   "cell_type": "markdown",
   "id": "c945e660-b0a0-4898-82c4-c27b05c1bca8",
   "metadata": {},
   "source": [
    "#### 3. What is the difference between the delete functions in the send2trash and shutil modules?\n",
    "**Ans:** Shutil module provides a funciton called as `shutil.rmtree()` which deletes a directory and all its contents. The other functions with similar functionality are `os.remove()` -> removes a file, `os.rmdir()` removes a empty directory. The problem with these functions is once a file is deleted. it will be lost permanently, if a file is deleted accidentally using these methods there is no way we can recover the deleted file\n",
    "\n",
    "Where as send2trash module provides a function called `send2trash.send2trash()` to delete a file/directory. these methods moves the files/directories to trash folder instead of permanently deleting them. hence if a file/folder is deleted accidentally it can be still recovered from trash folder, if is deleted using the `send2trash.send2trash()` function. `send2trash` is not included with python standard libary like `os` & `shutil` modules. it needs to be installed explicitly using the command `!pip install send2trash`"
   ]
  },
  {
   "cell_type": "markdown",
   "id": "b7abe748-efd9-4e74-8600-65e587e59641",
   "metadata": {},
   "source": [
    "#### 4.ZipFile objects have a close() method just like File objects’ close() method. What ZipFile method is equivalent to File objects’ open() method?\n",
    "**Ans:** ZipFile Module provides a method called as `zipfile.ZipFile()` to read and write to zipFiles. it takes arugments lile filename and mode etc `zipfile.ZipFile('filename', mode = 'r')`"
   ]
  },
  {
   "cell_type": "markdown",
   "id": "b12fefd5-3f68-47e8-beb2-71302630af3e",
   "metadata": {},
   "source": [
    "#### 5. Create a programme that searches a folder tree for files with a certain file extension (such as .pdf or .jpg). Copy these files from whatever location they are in to a new folder"
   ]
  },
  {
   "cell_type": "code",
   "execution_count": 4,
   "id": "3b1fd494-ca11-4b5d-91e0-04c529d4ca19",
   "metadata": {},
   "outputs": [],
   "source": [
    "import os\n",
    "import shutil\n",
    "\n",
    "def copy_files_with_extension(source_folder, destination_folder, file_extension):\n",
    "    # Create the destination folder if it doesn't exist\n",
    "    if not os.path.exists(destination_folder):\n",
    "        os.makedirs(destination_folder)\n",
    "\n",
    "    # Walk through the source folder tree and search for files with the specified extension\n",
    "    for root, _, files in os.walk(source_folder):\n",
    "        for filename in files:\n",
    "            fileName,extension = os.path.splitext(filename)\n",
    "            if extension in (file_extension):\n",
    "                source_file_path = os.path.join(root, filename)\n",
    "                destination_file_path = os.path.join(destination_folder, filename)\n",
    "                shutil.copy2(source_file_path, destination_file_path)\n",
    "                print(f\"Copied {source_file_path} to {destination_file_path}\")\n",
    "\n",
    "# Example usage:\n",
    "source_folder = \"/path/to/source_folder\"\n",
    "destination_folder = \"/path/to/destination_folder\"\n",
    "file_extension = [\".pdf\", \".jpg\"]\n",
    "\n",
    "copy_files_with_extension(source_folder, destination_folder, file_extension)\n"
   ]
  },
  {
   "cell_type": "code",
   "execution_count": null,
   "id": "11cb0369-d0ea-4520-844c-c6c7415b9c50",
   "metadata": {},
   "outputs": [],
   "source": []
  }
 ],
 "metadata": {
  "kernelspec": {
   "display_name": "Python 3 (ipykernel)",
   "language": "python",
   "name": "python3"
  },
  "language_info": {
   "codemirror_mode": {
    "name": "ipython",
    "version": 3
   },
   "file_extension": ".py",
   "mimetype": "text/x-python",
   "name": "python",
   "nbconvert_exporter": "python",
   "pygments_lexer": "ipython3",
   "version": "3.12.2"
  }
 },
 "nbformat": 4,
 "nbformat_minor": 5
}
