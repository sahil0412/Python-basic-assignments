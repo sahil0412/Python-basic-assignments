{
 "cells": [
  {
   "cell_type": "markdown",
   "id": "284c7e44-0bae-4898-a801-d5b5e6ddcdc1",
   "metadata": {},
   "source": [
    "# Assignment 2 Solutions"
   ]
  },
  {
   "cell_type": "markdown",
   "id": "361c8c2a-4705-440e-b103-e91a527c98ed",
   "metadata": {},
   "source": [
    "#### 1.What are the two values of the boolean data types? how do you write them ?\n",
    "**Ans**: `True` and `False` are two values of the boolen data types. We have to use `True` for True boolean value and `False` for False boolean value"
   ]
  },
  {
   "cell_type": "code",
   "execution_count": 13,
   "id": "5b110681-e325-4372-ae96-a41896a78e2d",
   "metadata": {},
   "outputs": [
    {
     "name": "stdout",
     "output_type": "stream",
     "text": [
      "True <class 'bool'>\n",
      "False <class 'bool'>\n"
     ]
    }
   ],
   "source": [
    "a=True\n",
    "b=False\n",
    "print(a,type(a))\n",
    "print(b,type(b))"
   ]
  },
  {
   "cell_type": "markdown",
   "id": "cfe3ac7e-a752-483a-903b-0b0731f5e17a",
   "metadata": {},
   "source": [
    "#### 2. What are the three different types of Boolean operators?\n",
    "**Ans**: The three differnt types of Boolean operators in python are:  `or` `and` `not`"
   ]
  },
  {
   "cell_type": "markdown",
   "id": "63d9c960-c5d0-40e3-8e7e-a6bffbcf743b",
   "metadata": {},
   "source": [
    "#### 3. Make a list of each Boolean operator's truth tables (i.e. every possible combination of Boolean values for the operator and what it evaluate) ?"
   ]
  },
  {
   "cell_type": "markdown",
   "id": "7ab9eab9-2650-48a6-8602-db2a1808e610",
   "metadata": {},
   "source": [
    "**Ans:** The Truth tables for the boolean tables are as follows:  \n",
    "* **Truth Table for `and` operaotor**  \n",
    "    _True and True is True   \n",
    "    True and False is False  \n",
    "    False and True is False  \n",
    "    False and False is False_\n",
    "    \n",
    "    \n",
    "* **Truth Table for `or` operaotor**  \n",
    "    _True and True is True   \n",
    "    True and False is True  \n",
    "    False and True is True  \n",
    "    False and False is False_\n",
    "    \n",
    "    \n",
    "* **Truth Table for `not` operaotor**        \n",
    "    _True not is False\n",
    "    False not is True_\n",
    "\n",
    "Finally\n",
    "* For `and` operator, if any one value is `False`, it will return `False`\n",
    "* For `or` operator, if any one value is `True`, it will return `True`\n",
    "* For `not` operator, it will change to `False` if it was `True` and vice versa"
   ]
  },
  {
   "cell_type": "markdown",
   "id": "f0dc0836-6034-4598-a0ea-13586491ca50",
   "metadata": {},
   "source": [
    "#### 4. What are the values of the following expressions ?\n",
    "* (5 > 4) and (3 == 5)  \n",
    "* not (5 > 4)  \n",
    "* (5 > 4) or (3 == 5)  \n",
    "* not ((5 > 4) or (3 == 5))  \n",
    "* (True and True) and (True == False)  \n",
    "* (not False) or (not True) "
   ]
  },
  {
   "cell_type": "code",
   "execution_count": 14,
   "id": "62a407c1-429c-4b15-8738-9ff1dec0ae46",
   "metadata": {},
   "outputs": [
    {
     "name": "stdout",
     "output_type": "stream",
     "text": [
      "False\n",
      "False\n",
      "True\n",
      "False\n",
      "False\n",
      "True\n"
     ]
    }
   ],
   "source": [
    "print((5>4)and(3==5)) # True and False returns False\n",
    "print(not(5>4)) # True's not returns False\n",
    "print((5>4)or(3==5)) # First expression is True and hence returns True\n",
    "print(not((5>4)or(3==5))) # Similar to above initial result of internal brackets is True and negations returns False\n",
    "print((True and True)and(True==False)) # True and False returns False\n",
    "print((not False)or(not True)) # True since first expression returns True"
   ]
  },
  {
   "cell_type": "markdown",
   "id": "178fb00c-fa31-48da-818e-61c24d2d7467",
   "metadata": {},
   "source": [
    "#### 5. What are the six comparison operators?\n",
    "**Ans:**  The Six comparision operators available in python are:  \n",
    "`==` , `!=` , `<` , `>` , `<=` , `=>`"
   ]
  },
  {
   "cell_type": "markdown",
   "id": "f15166ce-c430-4917-897d-34dc9ce490fe",
   "metadata": {},
   "source": [
    "#### 6. How do you tell the difference between the equal to and assignment operators?Describe a condition and when you would use one ? \n",
    "**Ans:** `==` is the equal to operator that compares two values and evaluates to a Boolean, while `=` is that assignment operator that stores a value in a variable."
   ]
  },
  {
   "cell_type": "code",
   "execution_count": 15,
   "id": "ae44bcb2-651f-4cb3-a9d0-4df648646198",
   "metadata": {},
   "outputs": [
    {
     "name": "stdout",
     "output_type": "stream",
     "text": [
      "3\n"
     ]
    }
   ],
   "source": [
    "a=3 # Assigning operator that stores 3 value in a variable a\n",
    "if a==3:#comparing values of a varible value and 3\n",
    "    print(a)  "
   ]
  },
  {
   "cell_type": "markdown",
   "id": "fcf3c589-f341-46f3-a549-bc564d949784",
   "metadata": {},
   "source": [
    "#### 7. Identify the three blocks in this code:\n",
    "spam = 0  \n",
    "if spam == 10:  \n",
    "print('eggs')  \n",
    "if spam > 5:  \n",
    "print('bacon')  \n",
    "else:  \n",
    "print('ham')  \n",
    "print('spam')  \n",
    "print('spam')"
   ]
  },
  {
   "cell_type": "markdown",
   "id": "04f465e7-a2ca-4e87-84fd-be8b7a42c1ed",
   "metadata": {},
   "source": [
    "**Ans**: In Python, code block refers to a collection of code that is in the same block or indent. This is most commonly found in classes, functions, and loops."
   ]
  },
  {
   "cell_type": "code",
   "execution_count": 16,
   "id": "d53223fd-7573-4df6-b65a-f523529c0dec",
   "metadata": {},
   "outputs": [
    {
     "name": "stdout",
     "output_type": "stream",
     "text": [
      "ham\n",
      "spam\n",
      "spam\n"
     ]
    }
   ],
   "source": [
    "spam = 0  \n",
    "if spam == 10:  \n",
    "    print('eggs')  # block #1\n",
    "if spam > 5:  \n",
    "    print('bacon')  # block #2\n",
    "else:  \n",
    "    print('ham')  # block #3\n",
    "print('spam')  \n",
    "print('spam')"
   ]
  },
  {
   "cell_type": "markdown",
   "id": "693ed9f9-8b8a-4ed2-88a2-8ad3251835fd",
   "metadata": {},
   "source": [
    "#### 8. Write code that prints Hello if 1 is stored in spam, prints Howdy if 2 is stored in spam, and prints Greetings! if anything else is stored in spam."
   ]
  },
  {
   "cell_type": "code",
   "execution_count": 17,
   "id": "8f41b7e2-d493-409b-a5ca-658a79f9f6ea",
   "metadata": {},
   "outputs": [
    {
     "name": "stdout",
     "output_type": "stream",
     "text": [
      "Hello\n",
      "Howdy\n",
      "Greetings!\n"
     ]
    }
   ],
   "source": [
    "def samplefunc(val):\n",
    "    if val==1:\n",
    "        print('Hello')\n",
    "    elif val==2:\n",
    "        print('Howdy')\n",
    "    else:\n",
    "        print('Greetings!')\n",
    "        \n",
    "samplefunc(1) \n",
    "samplefunc(2)\n",
    "samplefunc(3)"
   ]
  },
  {
   "cell_type": "markdown",
   "id": "ca27587b-093d-4134-8ffb-cdaa2f463b29",
   "metadata": {},
   "source": [
    "#### 9.If your programme is stuck in an endless loop, what keys you’ll press?\n",
    "**Ans:** Press `Ctrl-c` to stop a program stuck in an infinite loop. But the best practice is to add `break` statements"
   ]
  },
  {
   "cell_type": "markdown",
   "id": "86fa1dc9-2a67-4736-ae59-25443391af16",
   "metadata": {},
   "source": [
    "#### 10. How can you tell the difference between break and continue?\n",
    "**Ans:** The `break` statement will move the execution outside the loop if break condtion is satisfied. Whereas the `continue` statement will move the execution to the start of the loop."
   ]
  },
  {
   "cell_type": "markdown",
   "id": "5dcb8656-393f-4c05-950d-efba5af743f4",
   "metadata": {},
   "source": [
    "#### 11. In a for loop, what is the difference between range(10), range(0, 10), and range(0, 10, 1)?\n",
    "**Ans:** The Differences are as follows:  \n",
    "1. The _**range(10)**_ call range from 0 to 9 (but not include 10)  \n",
    "2. The _**range (0,10)**_ explicitly tells the loop to start at 0  \n",
    "3. The _**range(0,10,1)**_ explicitly tells the loop to increase the variable by 1 on each iteration\n",
    "\n",
    "range function has mutiple arguemnts which can be passed to it such as range(start, stop, step). Here start refers to the starting point and stop refers to ending point which is excluded and step means the step size"
   ]
  },
  {
   "cell_type": "markdown",
   "id": "39477fb6-98f8-400d-aede-6d8aa032926c",
   "metadata": {},
   "source": [
    "#### 12. Write a short program that prints the numbers 1 to 10 using a for loop. Then write an equivalent program that prints the numbers 1 to 10 using a while loop ? "
   ]
  },
  {
   "cell_type": "code",
   "execution_count": 18,
   "id": "583cc485-3c6d-4e68-952a-e05be3862cd0",
   "metadata": {},
   "outputs": [
    {
     "name": "stdout",
     "output_type": "stream",
     "text": [
      "---------- Using For Loop ----------\n",
      "1 2 3 4 5 6 7 8 9 10 \n",
      "\n",
      "---------- Using While Loop ----------\n",
      "1 2 3 4 5 6 7 8 9 10 "
     ]
    }
   ],
   "source": [
    "print('-'*10,'Using For Loop','-'*10)\n",
    "for i in range(1,11):\n",
    "    print(i, end=\" \")\n",
    "print('\\n')\n",
    "print('-'*10,'Using While Loop','-'*10) \n",
    "i=1 ## initialize the variabe\n",
    "while i<=10:\n",
    "    print(i, end=\" \")\n",
    "    i+=1 ## Increment the variable"
   ]
  },
  {
   "cell_type": "markdown",
   "id": "d84c5966-7187-486f-9411-a474ed32efef",
   "metadata": {},
   "source": [
    "#### 13. If you had a function named bacon() inside a module named spam, how would you call it after importing spam ?\n",
    "**Ans:** This function can be called with `spam.bacon()`"
   ]
  },
  {
   "cell_type": "code",
   "execution_count": 19,
   "id": "d63da3bf-a39d-46e1-babf-8cf01ad7eb8b",
   "metadata": {},
   "outputs": [
    {
     "ename": "ModuleNotFoundError",
     "evalue": "No module named 'spam'",
     "output_type": "error",
     "traceback": [
      "\u001b[1;31m---------------------------------------------------------------------------\u001b[0m",
      "\u001b[1;31mModuleNotFoundError\u001b[0m                       Traceback (most recent call last)",
      "Cell \u001b[1;32mIn[19], line 1\u001b[0m\n\u001b[1;32m----> 1\u001b[0m \u001b[38;5;28;01mimport\u001b[39;00m \u001b[38;5;21;01mspam\u001b[39;00m \u001b[38;5;66;03m## importing the module\u001b[39;00m\n\u001b[0;32m      2\u001b[0m spam\u001b[38;5;241m.\u001b[39mbacon() \u001b[38;5;66;03m## To execute the function\u001b[39;00m\n",
      "\u001b[1;31mModuleNotFoundError\u001b[0m: No module named 'spam'"
     ]
    }
   ],
   "source": [
    "import spam ## importing the module\n",
    "spam.bacon() ## To execute the function"
   ]
  }
 ],
 "metadata": {
  "kernelspec": {
   "display_name": "Python 3 (ipykernel)",
   "language": "python",
   "name": "python3"
  },
  "language_info": {
   "codemirror_mode": {
    "name": "ipython",
    "version": 3
   },
   "file_extension": ".py",
   "mimetype": "text/x-python",
   "name": "python",
   "nbconvert_exporter": "python",
   "pygments_lexer": "ipython3",
   "version": "3.12.2"
  }
 },
 "nbformat": 4,
 "nbformat_minor": 5
}
