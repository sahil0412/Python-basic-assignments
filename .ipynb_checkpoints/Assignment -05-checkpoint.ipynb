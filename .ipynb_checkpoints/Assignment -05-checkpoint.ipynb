{
 "cells": [
  {
   "cell_type": "markdown",
   "id": "3f9774b6-0b4b-469f-802b-30301149bb56",
   "metadata": {},
   "source": [
    "# Assignment 5 Solutions"
   ]
  },
  {
   "cell_type": "markdown",
   "id": "400aaefc-f847-4783-b828-3cda8e394e9f",
   "metadata": {},
   "source": [
    "#### 1.What does an empty dictionary's code look like?\n",
    "**Ans:** An empty dictionary is often represented by two empty curly brackets  \n",
    "`d = {}` or `d = dict()`"
   ]
  },
  {
   "cell_type": "markdown",
   "id": "fcea3157-e9e9-4e58-844e-341ca61b672a",
   "metadata": {},
   "source": [
    "#### 2.what is the value of dictionary value with key 'foo' and the value 42 ?\n",
    "**Ans:** `{'foo':42}`"
   ]
  },
  {
   "cell_type": "markdown",
   "id": "10e92422-a72e-4433-89f1-86b5db778399",
   "metadata": {},
   "source": [
    "#### 3.What is the most significant distinction between a dictionary and a list?\n",
    "**Ans:** Dictionaries are represented by `{}` where as listed are represented by `[]`  \n",
    " They differ significantly in how they store, access, and manage their elements. Lists are ordered collections accessed by index, while dictionaries are unordered collections accessed by keys."
   ]
  },
  {
   "cell_type": "markdown",
   "id": "595cca8c-5a9d-4034-985d-24e7906b21c6",
   "metadata": {},
   "source": [
    "#### 4.What happens if you try to access spam ['foo'] if spam is {'bar':100} ?\n",
    "**Ans:** we will get a keyError `KeyError: 'foo'`"
   ]
  },
  {
   "cell_type": "code",
   "execution_count": 1,
   "id": "ae103862-17b2-4f7d-8fe3-7835ce2459d9",
   "metadata": {},
   "outputs": [
    {
     "name": "stdout",
     "output_type": "stream",
     "text": [
      "None\n"
     ]
    },
    {
     "ename": "KeyError",
     "evalue": "'foo'",
     "output_type": "error",
     "traceback": [
      "\u001b[1;31m---------------------------------------------------------------------------\u001b[0m",
      "\u001b[1;31mKeyError\u001b[0m                                  Traceback (most recent call last)",
      "Cell \u001b[1;32mIn[1], line 4\u001b[0m\n\u001b[0;32m      2\u001b[0m spam \u001b[38;5;241m=\u001b[39m {\u001b[38;5;124m'\u001b[39m\u001b[38;5;124mbar\u001b[39m\u001b[38;5;124m'\u001b[39m:\u001b[38;5;241m100\u001b[39m}\n\u001b[0;32m      3\u001b[0m \u001b[38;5;28mprint\u001b[39m(spam\u001b[38;5;241m.\u001b[39mget(\u001b[38;5;124m'\u001b[39m\u001b[38;5;124mfoo\u001b[39m\u001b[38;5;124m'\u001b[39m)) \u001b[38;5;66;03m# Returns None if key is not present\u001b[39;00m\n\u001b[1;32m----> 4\u001b[0m \u001b[38;5;28mprint\u001b[39m(\u001b[43mspam\u001b[49m\u001b[43m[\u001b[49m\u001b[38;5;124;43m'\u001b[39;49m\u001b[38;5;124;43mfoo\u001b[39;49m\u001b[38;5;124;43m'\u001b[39;49m\u001b[43m]\u001b[49m) \u001b[38;5;66;03m# Raise key error\u001b[39;00m\n",
      "\u001b[1;31mKeyError\u001b[0m: 'foo'"
     ]
    }
   ],
   "source": [
    "# Example\n",
    "spam = {'bar':100}\n",
    "print(spam.get('foo')) # Returns None if key is not present\n",
    "print(spam['foo']) # Raise key error"
   ]
  },
  {
   "cell_type": "markdown",
   "id": "e27f3e0c-7ee2-4152-8aa4-c18d6bfe2e22",
   "metadata": {},
   "source": [
    "#### 5.if a dictionary is stored in spam,what is the difference between the expressions 'cat' in spam and 'cat' in spam.keys() ?\n",
    "**Ans:** Both expressions check for the existence of the key `'cat'` within the dictionary spam, but `'cat'` in `spam` directly checks the dictionary itself, while `'cat'` in `spam.keys()` first retrieves the keys of the dictionary and then checks if `'cat'` is among them."
   ]
  },
  {
   "cell_type": "markdown",
   "id": "d9690b76-18e1-492a-b3fb-273e20e706c2",
   "metadata": {},
   "source": [
    "#### 6.if a dictionary is stored in spam,what is the difference between the expressions 'cat' in spam and 'cat' in spam.values() ?\n",
    "**Ans:**'cat' in spam checks whether there is a 'cat' key in the dictionary, while 'cat' in spam.values() checks whether there is a value 'cat' for one of the keys in spam."
   ]
  },
  {
   "cell_type": "markdown",
   "id": "0857e1e4-ef83-4bc8-9eb8-7562514f4a2e",
   "metadata": {},
   "source": [
    "#### 7.what is a shortcut for the following code ?\n",
    "`if 'color' not in spam:\n",
    "    spam['color'] ='black'`\n",
    "    \n",
    "**Ans:** `spam.setdefault('color','black')`"
   ]
  },
  {
   "cell_type": "markdown",
   "id": "080a8bd0-80af-49de-9240-17f6f6ffd795",
   "metadata": {},
   "source": [
    "#### 8.How do you 'pretty print' dictionary values using which modules and function ?\n",
    "**Ans:** we can pretty print a dictionary using three functions\n",
    "1. To pretty print dictionary values in Python, you can use the pprint module, which provides a pprint() function for pretty-printing data structures, including dictionaries.\n",
    "    * **Note:** pprint() function doesnot prettify nested dictionaries\n",
    "2. by using dumps() method of json module\n",
    "3. by using dumps() method of yaml module"
   ]
  },
  {
   "cell_type": "code",
   "execution_count": 2,
   "id": "25b051a3-a35d-42ae-99b6-8e9064adf223",
   "metadata": {},
   "outputs": [
    {
     "name": "stdout",
     "output_type": "stream",
     "text": [
      "Printing using print() function\n",
      " [{'First_Name': 'Alice', 'Last_Name': 'Smith', 'Years': '25', 'Address': {'Country': 'Canada', 'City': 'Vancouver'}}, {'First_Name': 'Bob', 'Last_Name': 'Johnson', 'Years': '38', 'Address': {'Country': 'Australia', 'City': 'Melbourne'}}, {'First_Name': 'Charlie', 'Last_Name': 'Brown', 'Years': '29', 'Address': {'Country': 'France', 'City': 'Nice'}}, {'First_Name': 'Diana', 'Last_Name': 'Lee', 'Years': '33', 'Address': {'Country': 'Germany', 'City': 'Munich'}}]\n",
      "----------------------------------------------------------------------\n",
      "Printing using pprint() funciton\n",
      "[{'Address': {'City': 'Vancouver', 'Country': 'Canada'},\n",
      "  'First_Name': 'Alice',\n",
      "  'Last_Name': 'Smith',\n",
      "  'Years': '25'},\n",
      " {'Address': {'City': 'Melbourne', 'Country': 'Australia'},\n",
      "  'First_Name': 'Bob',\n",
      "  'Last_Name': 'Johnson',\n",
      "  'Years': '38'},\n",
      " {'Address': {'City': 'Nice', 'Country': 'France'},\n",
      "  'First_Name': 'Charlie',\n",
      "  'Last_Name': 'Brown',\n",
      "  'Years': '29'},\n",
      " {'Address': {'City': 'Munich', 'Country': 'Germany'},\n",
      "  'First_Name': 'Diana',\n",
      "  'Last_Name': 'Lee',\n",
      "  'Years': '33'}]\n",
      "----------------------------------------------------------------------\n",
      "Printing using dumps() method\n",
      " [\n",
      "    {\n",
      "        \"First_Name\": \"Alice\",\n",
      "        \"Last_Name\": \"Smith\",\n",
      "        \"Years\": \"25\",\n",
      "        \"Address\": {\n",
      "            \"Country\": \"Canada\",\n",
      "            \"City\": \"Vancouver\"\n",
      "        }\n",
      "    },\n",
      "    {\n",
      "        \"First_Name\": \"Bob\",\n",
      "        \"Last_Name\": \"Johnson\",\n",
      "        \"Years\": \"38\",\n",
      "        \"Address\": {\n",
      "            \"Country\": \"Australia\",\n",
      "            \"City\": \"Melbourne\"\n",
      "        }\n",
      "    },\n",
      "    {\n",
      "        \"First_Name\": \"Charlie\",\n",
      "        \"Last_Name\": \"Brown\",\n",
      "        \"Years\": \"29\",\n",
      "        \"Address\": {\n",
      "            \"Country\": \"France\",\n",
      "            \"City\": \"Nice\"\n",
      "        }\n",
      "    },\n",
      "    {\n",
      "        \"First_Name\": \"Diana\",\n",
      "        \"Last_Name\": \"Lee\",\n",
      "        \"Years\": \"33\",\n",
      "        \"Address\": {\n",
      "            \"Country\": \"Germany\",\n",
      "            \"City\": \"Munich\"\n",
      "        }\n",
      "    }\n",
      "]\n",
      "----------------------------------------------------------------------\n",
      "Printing using dump() method\n",
      " - Address:\n",
      "    City: Vancouver\n",
      "    Country: Canada\n",
      "  First_Name: Alice\n",
      "  Last_Name: Smith\n",
      "  Years: '25'\n",
      "- Address:\n",
      "    City: Melbourne\n",
      "    Country: Australia\n",
      "  First_Name: Bob\n",
      "  Last_Name: Johnson\n",
      "  Years: '38'\n",
      "- Address:\n",
      "    City: Nice\n",
      "    Country: France\n",
      "  First_Name: Charlie\n",
      "  Last_Name: Brown\n",
      "  Years: '29'\n",
      "- Address:\n",
      "    City: Munich\n",
      "    Country: Germany\n",
      "  First_Name: Diana\n",
      "  Last_Name: Lee\n",
      "  Years: '33'\n",
      "\n"
     ]
    }
   ],
   "source": [
    "dict1 = [\n",
    "    {'First_Name': 'Alice', 'Last_Name': 'Smith', 'Years': '25', 'Address': {'Country':'Canada', 'City': 'Vancouver'}},\n",
    "    {'First_Name': 'Bob', 'Last_Name': 'Johnson', 'Years': '38', 'Address': {'Country':'Australia', 'City': 'Melbourne'}},\n",
    "    {'First_Name': 'Charlie', 'Last_Name': 'Brown', 'Years': '29', 'Address': {'Country':'France', 'City': 'Nice'}},\n",
    "    {'First_Name': 'Diana', 'Last_Name': 'Lee', 'Years': '33', 'Address': {'Country':'Germany', 'City': 'Munich'}}\n",
    "]\n",
    "\n",
    "\n",
    "print('Printing using print() function\\n',dict1)\n",
    "print('-'*70)\n",
    "import pprint\n",
    "print('Printing using pprint() funciton')\n",
    "pprint.pprint(dict1)\n",
    "print('-'*70)\n",
    "import json\n",
    "dump = json.dumps(dict1, indent=4)\n",
    "print('Printing using dumps() method\\n', dump)\n",
    "print('-'*70)\n",
    "import yaml\n",
    "dump = yaml.dump(dict1)\n",
    "print('Printing using dump() method\\n', dump)"
   ]
  },
  {
   "cell_type": "code",
   "execution_count": null,
   "id": "467a2959-6dd2-4e18-9bfa-1f62a560d861",
   "metadata": {},
   "outputs": [],
   "source": []
  }
 ],
 "metadata": {
  "kernelspec": {
   "display_name": "Python 3 (ipykernel)",
   "language": "python",
   "name": "python3"
  },
  "language_info": {
   "codemirror_mode": {
    "name": "ipython",
    "version": 3
   },
   "file_extension": ".py",
   "mimetype": "text/x-python",
   "name": "python",
   "nbconvert_exporter": "python",
   "pygments_lexer": "ipython3",
   "version": "3.12.2"
  }
 },
 "nbformat": 4,
 "nbformat_minor": 5
}
