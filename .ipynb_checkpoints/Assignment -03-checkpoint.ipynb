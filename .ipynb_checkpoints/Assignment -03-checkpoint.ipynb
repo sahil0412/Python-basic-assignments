{
 "cells": [
  {
   "cell_type": "markdown",
   "id": "03cc325d-0bf0-4b2c-b7a9-93c605f63933",
   "metadata": {},
   "source": [
    "# Assignment 3 Solutions"
   ]
  },
  {
   "cell_type": "markdown",
   "id": "4ba03286-b1ee-44d0-a42d-35383937433c",
   "metadata": {},
   "source": [
    "#### 1. Why are functions advantageous to have in your programs?\n",
    "**Ans:** The main advantage of functions is code Reusability. Functions reduce the need for duplicate code. This makes programs shorter, easier to read, and easier to update.\n",
    "     "
   ]
  },
  {
   "cell_type": "markdown",
   "id": "768c6e65-7fa1-4fd5-a398-e06c79dbbfb8",
   "metadata": {},
   "source": [
    "#### 2. When does the code in a function run: when it's specified or when it's called?\n",
    "**Ans:** The code in a function executes when the function is called, not when the function is specified. It acts as a blueprint until it is called."
   ]
  },
  {
   "cell_type": "markdown",
   "id": "e50a3779-8bc1-491a-ae88-12f5425bbfd8",
   "metadata": {},
   "source": [
    "#### 3. What statement creates a function?\n",
    "**Ans:** The `def` statement defines a function  \n"
   ]
  },
  {
   "cell_type": "code",
   "execution_count": 9,
   "id": "f7b9cb61-76fe-4cfe-8e22-2a88d3c11be9",
   "metadata": {},
   "outputs": [],
   "source": [
    "#Syntax of Function: \n",
    "def function_name(parameters): ## Add typing for reference\n",
    "    \"\"\"doc string\"\"\"          \n",
    "    ##-----function body-----\n",
    "    ##-----function body-----\n",
    "    return "
   ]
  },
  {
   "cell_type": "markdown",
   "id": "24b847dd-47e3-4800-8519-6342e96e8e66",
   "metadata": {},
   "source": [
    "#### 4. What is the difference between a function and a function call?\n",
    "**Ans:** A function is procedure to achieve a particular result. It acts as a blueprint only. while function call is using this function to achive that task. Using a function to do a particular task any point in program is called as function call. "
   ]
  },
  {
   "cell_type": "markdown",
   "id": "516b4386-ce08-4f19-ac71-d81676dbc585",
   "metadata": {},
   "source": [
    "#### 5. How many global scopes are there in a Python program? How many local scopes?\n",
    "**Ans:** There is one global scope, and a local scope is created whenever a function is called."
   ]
  },
  {
   "cell_type": "markdown",
   "id": "1c0283d3-04ec-4971-a00a-cabfb5696285",
   "metadata": {},
   "source": [
    "#### 6. What happens to variables in a local scope when the function call returns?\n",
    "**Ans:** When a function returns, the local scope is destroyed, and all the variables in it are forgotten."
   ]
  },
  {
   "cell_type": "markdown",
   "id": "7a39e062-ffa6-41ea-8d41-8a4e86f23912",
   "metadata": {},
   "source": [
    "#### 7. What is the concept of a return value? Is it possible to have a return value in an expression?\n",
    "**Ans**: A return value is the value that a function call returns as an output. Like any value, a return value can be used\n",
    "as part of an expression. If nothing is mentioned explicitly `None` is returned by default."
   ]
  },
  {
   "cell_type": "markdown",
   "id": "589a2c64-58a9-406a-a722-03cd8bd951b1",
   "metadata": {},
   "source": [
    "#### 8. If a function does not have a return statement, what is the return value of a call to that function?\n",
    "**Ans:** If there is no return statement for a function, its return value is `None`."
   ]
  },
  {
   "cell_type": "markdown",
   "id": "d076c1f4-e1e3-41d2-9760-8dcbb2d6b28c",
   "metadata": {},
   "source": [
    "#### 9. How do you make a function variable refer to the global variable?\n",
    "**Ans:** A global statement will force a variable in a function to refer to the global variable.\n",
    "If you want to refer to a global variable in a function, you can use the `global` keyword to declare which variables are  global."
   ]
  },
  {
   "cell_type": "code",
   "execution_count": 11,
   "id": "036d2e9e-f92b-4b35-8cdf-aedc9426009e",
   "metadata": {},
   "outputs": [
    {
     "name": "stdout",
     "output_type": "stream",
     "text": [
      "before calling function value of a is: 10\n",
      "inside function before modifying value of a is: 10\n",
      "inside function before modifying value of a is: 12\n",
      "after calling function value of a is: 12\n"
     ]
    }
   ],
   "source": [
    "a = 10\n",
    "def demo():\n",
    "    global a\n",
    "    print(\"inside function before modifying value of a is:\",a)\n",
    "    a= 12\n",
    "    print(\"inside function before modifying value of a is:\", a)\n",
    "print(\"before calling function value of a is:\",a)\n",
    "demo()\n",
    "print(\"after calling function value of a is:\",a)\n",
    "    "
   ]
  },
  {
   "cell_type": "markdown",
   "id": "c7254875-a1a0-400e-8817-e2ec026022cd",
   "metadata": {},
   "source": [
    "#### 10. What is the data type of None?\n",
    "**Ans:** In Python, `None` is a special constant representing the absence of a value or a null value. The data type of None is `NoneType`."
   ]
  },
  {
   "cell_type": "markdown",
   "id": "ae5c4430-58ca-475f-b2c4-9d92c64ba3fa",
   "metadata": {},
   "source": [
    "#### 11. What does the sentence import areallyourpetsnamederic do?\n",
    "**Ans:** That import statement imports a module named `areallyourpetsnamederic`."
   ]
  },
  {
   "cell_type": "markdown",
   "id": "4cdc1a7f-26e9-45eb-9f5b-214d23e82621",
   "metadata": {},
   "source": [
    "#### 12. If you had a bacon() feature in a spam module, what would you call it after importing spam?\n",
    "**Ans:** This function can be called with `spam.bacon()`."
   ]
  },
  {
   "cell_type": "markdown",
   "id": "0f7df7c8-3af2-4640-813f-ab620a6d8ad3",
   "metadata": {},
   "source": [
    "#### 13. What can you do to save a programme from crashing if it encounters an error?\n",
    "**Ans:** Place the line of code that might cause an error in a `try` clause and use except `block` to handle the error."
   ]
  },
  {
   "cell_type": "markdown",
   "id": "653104c5-0256-48eb-b0b9-d31065453323",
   "metadata": {},
   "source": [
    "#### 14. What is the purpose of the try clause? What is the purpose of the except clause?\n",
    "ANS:The code that could potentially cause an error goes in the `try` clause. The code that executes if an error happens goes in the `except` clause. `finally` block is also there which is always executed."
   ]
  },
  {
   "cell_type": "code",
   "execution_count": null,
   "id": "cc2a3b04-58d7-4f4c-bbc2-851f5a9473c4",
   "metadata": {},
   "outputs": [],
   "source": []
  }
 ],
 "metadata": {
  "kernelspec": {
   "display_name": "Python 3 (ipykernel)",
   "language": "python",
   "name": "python3"
  },
  "language_info": {
   "codemirror_mode": {
    "name": "ipython",
    "version": 3
   },
   "file_extension": ".py",
   "mimetype": "text/x-python",
   "name": "python",
   "nbconvert_exporter": "python",
   "pygments_lexer": "ipython3",
   "version": "3.12.2"
  }
 },
 "nbformat": 4,
 "nbformat_minor": 5
}
