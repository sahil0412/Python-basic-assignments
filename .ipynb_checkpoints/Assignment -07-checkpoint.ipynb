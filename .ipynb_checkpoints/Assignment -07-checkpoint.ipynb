{
 "cells": [
  {
   "cell_type": "markdown",
   "id": "4645e48c-2554-4bfa-ba06-14e607f3ee2f",
   "metadata": {},
   "source": [
    "# Assignment 7 Solutions"
   ]
  },
  {
   "cell_type": "markdown",
   "id": "892d6dff-d467-42ba-ba74-340a903bab6b",
   "metadata": {},
   "source": [
    "#### 1. What is the name of the feature responsible for generating Regex objects?\n",
    "**Ans:** The feature responsible for generating Regex objects in Python is called the `\"re\"` module, which is part of Python's standard library. The \"re\" module provides support for working with regular expressions (regex) in Python, including functions for `creating`, `compiling`, and using regex patterns to search, match, and manipulate strings."
   ]
  },
  {
   "cell_type": "code",
   "execution_count": 4,
   "id": "70954755-a4b5-4a51-b872-27f551c4e0ab",
   "metadata": {},
   "outputs": [
    {
     "name": "stdout",
     "output_type": "stream",
     "text": [
      "<class 're.Pattern'>\n",
      "re.compile('some_random_pattern')\n"
     ]
    }
   ],
   "source": [
    "import re\n",
    "x = re.compile(\"some_random_pattern\")\n",
    "print(type(x))\n",
    "print(x)"
   ]
  },
  {
   "cell_type": "markdown",
   "id": "e98207ea-f596-4857-83d5-477559d25fbc",
   "metadata": {},
   "source": [
    "#### 2. Why do raw strings often appear in Regex objects?\n",
    "**Ans:** Raw strings in Regex objects are used to avoid Python's default escape character interpretation, ensuring that special characters in regular expressions are treated literally rather than as escape sequences. This helps maintain the integrity of the regex pattern. \n",
    "\n",
    "For example, consider the regex pattern \\d\\d-\\d\\d-\\d\\d\\d\\d to match a date in the format \"dd-mm-yyyy\". If you use it as a regular string without the r prefix, you would need to escape each backslash, like this: \\\\d\\\\d-\\\\d\\\\d-\\\\d\\\\d\\\\d\\\\d. However, with a raw string, you can write it more simply as r'\\d\\d-\\d\\d-\\d\\d\\d\\d'. Using raw strings in regex objects makes the patterns more readable and less error-prone, as you don't have to worry about double escaping backslashes. It's a common practice in Python when dealing with regular expressions."
   ]
  },
  {
   "cell_type": "markdown",
   "id": "b5c15713-8823-4976-9d82-2268fdae8680",
   "metadata": {},
   "source": [
    "#### 3. What is the return value of the search() method?\n",
    "**Ans:** The return value of `re.search(pattern,string)` method is a match object if the pattern is observed in the string else it returns a None"
   ]
  },
  {
   "cell_type": "code",
   "execution_count": 5,
   "id": "be2a6cc9-51b6-4a1a-942c-dd0efdf6c1db",
   "metadata": {},
   "outputs": [
    {
     "name": "stdout",
     "output_type": "stream",
     "text": [
      "Match found: apple\n"
     ]
    }
   ],
   "source": [
    "# Example\n",
    "import re\n",
    "\n",
    "# Define a pattern\n",
    "pattern = r'apple'\n",
    "\n",
    "# Define a string to search within\n",
    "text = 'I have an apple and a banana.'\n",
    "\n",
    "# Search for the pattern within the text\n",
    "match = re.search(pattern, text)\n",
    "\n",
    "# Check if a match is found\n",
    "if match:\n",
    "    print(\"Match found:\", match.group())\n",
    "else:\n",
    "    print(\"No match found.\")\n"
   ]
  },
  {
   "cell_type": "markdown",
   "id": "6c996154-52a0-4f7a-ab9f-154ee63bef2b",
   "metadata": {},
   "source": [
    "#### 4. From a Match item, how do you get the actual strings that match the pattern?\n",
    "**Ans:** To get the actual strings that match the pattern from a Match object, you can use the `group()` method. If you want to retrieve all matches, you can use `groups()` or `group(0)` for the entire match, and `group(1)`, `group(2)`, etc. for specific capturing groups within the pattern."
   ]
  },
  {
   "cell_type": "code",
   "execution_count": 6,
   "id": "11dff9b2-23cf-41a4-85c3-88e4c6675022",
   "metadata": {},
   "outputs": [
    {
     "name": "stdout",
     "output_type": "stream",
     "text": [
      "Entire match: 03-04-2024\n",
      "Day: 03\n",
      "Month: 04\n",
      "Year: 2024\n"
     ]
    }
   ],
   "source": [
    "import re\n",
    "\n",
    "# Define a pattern with capturing groups\n",
    "pattern = r'(\\d{2})-(\\d{2})-(\\d{4})'\n",
    "\n",
    "# Define a string to search within\n",
    "text = 'Today is 03-04-2024, tomorrow will be 03-05-2024.'\n",
    "\n",
    "# Search for the pattern within the text\n",
    "match = re.search(pattern, text)\n",
    "\n",
    "# Check if a match is found\n",
    "if match:\n",
    "    # Get the entire match\n",
    "    entire_match = match.group(0)\n",
    "    print(\"Entire match:\", entire_match)\n",
    "\n",
    "    # Get the first capturing group (day)\n",
    "    day = match.group(1)\n",
    "    print(\"Day:\", day)\n",
    "\n",
    "    # Get the second capturing group (month)\n",
    "    month = match.group(2)\n",
    "    print(\"Month:\", month)\n",
    "\n",
    "    # Get the third capturing group (year)\n",
    "    year = match.group(3)\n",
    "    print(\"Year:\", year)\n",
    "else:\n",
    "    print(\"No match found.\")\n",
    "\n",
    "\n"
   ]
  },
  {
   "cell_type": "markdown",
   "id": "c9b504d4-6792-4c88-a243-4d81205fa5c9",
   "metadata": {},
   "source": [
    "#### 5. In the regex which created from the r'(\\d\\d\\d)-(\\d\\d\\d-\\d\\d\\d\\d)', what does group zero cover? Group 2? Group 1?\n",
    "**Ans:** In the Regex **`r'(\\d\\d\\d)-(\\d\\d\\d-\\d\\d\\d\\d)'`** the zero group covers the entire pattern match where as the first group cover **`(\\d\\d\\d)`** and the second group cover **`(\\d\\d\\d-\\d\\d\\d\\d)`**"
   ]
  },
  {
   "cell_type": "code",
   "execution_count": 7,
   "id": "2a4a4ef9-0235-43c3-ac9b-753ebba18207",
   "metadata": {},
   "outputs": [
    {
     "name": "stdout",
     "output_type": "stream",
     "text": [
      "('111', '222-3333')\n",
      "111-222-3333\n",
      "111\n",
      "222-3333\n"
     ]
    }
   ],
   "source": [
    "# Example\n",
    "import re\n",
    "phoneNumRegex = re.compile(r'(\\d\\d\\d)-(\\d\\d\\d-\\d\\d\\d\\d)')\n",
    "mo = phoneNumRegex.search('My number is 111-222-3333.')\n",
    "print(mo.groups()) # Prints all groups in a tuple format\n",
    "print(mo.group()) # Always returns the fully matched string \n",
    "print(mo.group(1)) # Returns the first group\n",
    "print(mo.group(2)) # Returns the second group"
   ]
  },
  {
   "cell_type": "markdown",
   "id": "cf3138aa-4168-4250-ad22-a1f55071406a",
   "metadata": {},
   "source": [
    "#### 6. In standard expression syntax, parentheses and intervals have distinct meanings. How can you tell a regex that you want it to fit real parentheses and periods?\n",
    "**Ans:**  **`\\(`** and **`\\)`** escape characters in the raw string passed to re.compile() will match actual parenthesis characters."
   ]
  },
  {
   "cell_type": "code",
   "execution_count": 8,
   "id": "304f6a08-86d8-401b-a5ad-ee0219f021b0",
   "metadata": {},
   "outputs": [
    {
     "name": "stdout",
     "output_type": "stream",
     "text": [
      "(111) 222-3333\n"
     ]
    }
   ],
   "source": [
    "# Example Program\n",
    "import re\n",
    "phoneNumRegex = re.compile(r'(\\(\\d\\d\\d\\)) (\\d\\d\\d-\\d\\d\\d\\d)')\n",
    "mo = phoneNumRegex.search('My phone number is (111) 222-3333.')\n",
    "print(mo.group())"
   ]
  },
  {
   "cell_type": "markdown",
   "id": "ba4e6ad6-e98d-4816-9414-1869efc71598",
   "metadata": {},
   "source": [
    "#### 7. The findall() method returns a string list or a list of string tuples. What causes it to return one of the two options?\n",
    "**Ans:** If the regex pattern has no groups, an empty list is returned. if the regex pattern has groups, a list of strings is returned."
   ]
  },
  {
   "cell_type": "code",
   "execution_count": 9,
   "id": "dfa93631-44ad-4d1f-867a-341785971827",
   "metadata": {},
   "outputs": [
    {
     "name": "stdout",
     "output_type": "stream",
     "text": [
      "[]\n",
      "['111-222-3333', '222-333-4444']\n"
     ]
    }
   ],
   "source": [
    "# Example 1\n",
    "import re\n",
    "phoneNumRegex = re.compile(r'(\\(\\d\\d\\d\\)) (\\d\\d\\d-\\d\\d\\d\\d)')\n",
    "mo = phoneNumRegex.findall('My phone number is (1112) 222-3333.')\n",
    "print(mo)\n",
    "\n",
    "# Example 2\n",
    "import re\n",
    "phoneNumRegex = re.compile(r'\\d{3}-\\d{3}-\\d{4}')\n",
    "mo = phoneNumRegex.findall('My number are 111-222-3333 and 222-333-4444')\n",
    "print(mo) # Prints all groups in a tuple format"
   ]
  },
  {
   "cell_type": "markdown",
   "id": "5ba73786-2af1-4292-ad3d-6657b0dc626f",
   "metadata": {},
   "source": [
    "#### 8. In standard expressions, what does the | character mean?\n",
    "**Ans:** In Standard Expressions `|` means `OR` operator."
   ]
  },
  {
   "cell_type": "markdown",
   "id": "75019233-a12a-4f8a-8b6d-b618e107bbe7",
   "metadata": {},
   "source": [
    "#### 9. In regular expressions, what does the `?` character stand for?\n",
    "**Ans:** In regular Expressions, `?` characters represents zero or one match of the preceeding group."
   ]
  },
  {
   "cell_type": "code",
   "execution_count": 10,
   "id": "8ae9c861-42fe-4587-a459-783754f87359",
   "metadata": {},
   "outputs": [
    {
     "name": "stdout",
     "output_type": "stream",
     "text": [
      "<re.Match object; span=(0, 6), match='Batman'>\n",
      "<re.Match object; span=(0, 8), match='Batwoman'>\n"
     ]
    }
   ],
   "source": [
    "# Example\n",
    "import re\n",
    "match_1 = re.search(\"Bat(wo)?man\",\"Batman returns\") # zero characters match for `wo`\n",
    "print(match_1)\n",
    "match_2 = re.search(\"Bat(wo)?man\",\"Batwoman returns\") # one characters match for `wo`\n",
    "print(match_2)"
   ]
  },
  {
   "cell_type": "markdown",
   "id": "cae1c477-fb79-4c96-a913-9624e4fa9f26",
   "metadata": {},
   "source": [
    "#### 10.In regular expressions, what is the difference between the + and * characters?\n",
    "**Ans:** In Regular Expressions, `*` Represents `Zero ore more` occurances of the preceeding group, whereas `+` represents `one or more` occurances of the preceeding group."
   ]
  },
  {
   "cell_type": "code",
   "execution_count": 11,
   "id": "7ad516ad-e1ff-481a-9b74-b8d341f6bb15",
   "metadata": {},
   "outputs": [
    {
     "name": "stdout",
     "output_type": "stream",
     "text": [
      "<re.Match object; span=(0, 6), match='Batman'>\n",
      "None\n"
     ]
    }
   ],
   "source": [
    "# Example\n",
    "import re\n",
    "match_1 = re.search(\"Bat(wo)*man\",\"Batman returns\")\n",
    "print(match_1)\n",
    "match_2 = re.search(\"Bat(wo)+man\",\"Batman returns\")\n",
    "print(match_2)"
   ]
  },
  {
   "cell_type": "markdown",
   "id": "babac3ea-e3a1-4466-9e85-c66714bc4121",
   "metadata": {},
   "source": [
    "#### 11. What is the difference between {4} and {4,5} in regular expression?\n",
    "**Ans:** `{4}` means that its preceeding group should repeat 4 times. where as `{4,5}` means that its preceeding group should repeat mininum 4 times and maximum 5 times inclusively"
   ]
  },
  {
   "cell_type": "code",
   "execution_count": 12,
   "id": "071ded02-7de2-4706-833c-2d8b1298a4cb",
   "metadata": {},
   "outputs": [
    {
     "name": "stdout",
     "output_type": "stream",
     "text": [
      "HaHaHa\n",
      "None\n"
     ]
    }
   ],
   "source": [
    "# Example\n",
    "import re\n",
    "haRegex = re.compile(r'(Ha){3}')\n",
    "mo1 = haRegex.search('HaHaHa') # Pattern HaHaHa is matched with HaHaHa string\n",
    "mo2 = haRegex.search('Ha') # Pattern HaHaHa is not matched with Ha string\n",
    "print(mo1.group())\n",
    "print(mo2)"
   ]
  },
  {
   "cell_type": "markdown",
   "id": "46337369-9c49-442d-a2e4-371bb9c8f579",
   "metadata": {},
   "source": [
    "#### 12. What do you mean by the \\d, \\w, and \\s shorthand character classes signify in regular expressions?\n",
    "**Ans:** \\d, \\w and \\s are special sequences in regular expresssions in python:\n",
    "1. **`\\w`** – Matches a word character equivalent to [a-zA-Z0-9_]. Word characters typically include alphanumeric characters (letters and digits) as well as underscores.\n",
    "2. **`\\d`** – Matches digit character equivalent to [0-9]\n",
    "3. **`\\s`** – Matches whitespace character (space, tab, newline, etc.)"
   ]
  },
  {
   "cell_type": "markdown",
   "id": "4cb2c063-666e-4550-9ed0-0653bf4a01fb",
   "metadata": {},
   "source": [
    "#### 13. What do means by \\D, \\W, and \\S shorthand character classes signify in regular expressions?\n",
    "**Ans:** \\D, \\W and \\S are special sequences in regular expresssions in python:\n",
    "1. **`\\W`** – Matches any non-alphanumeric character equivalent to [^a-zA-Z0-9_]\n",
    "2. **`\\D`** – Matches any non-digit character, this is equivalent to the set class [^0-9]\n",
    "3. **`\\S`** – Matches any non-whitespace character"
   ]
  },
  {
   "cell_type": "markdown",
   "id": "86d0960e-357e-47e6-a9cd-1c6502e36da3",
   "metadata": {},
   "source": [
    "#### 14. What is the difference between `.*?` and `.*`?\n",
    "**Ans:** **`.*`** is a Greedy mode, which returns the longest string that meets the condition. Whereas **`.*?`** is a non greedy mode which returns the shortest string that meets the condition."
   ]
  },
  {
   "cell_type": "code",
   "execution_count": 13,
   "id": "94085f12-ecd4-4e12-a74e-4fc83bc174a1",
   "metadata": {},
   "outputs": [
    {
     "name": "stdout",
     "output_type": "stream",
     "text": [
      "Match using .*?: Hello\n",
      "Match using .*: Hello, world! Let's try this for o\n"
     ]
    }
   ],
   "source": [
    "# Example\n",
    "import re\n",
    "\n",
    "text = \"Hello, world! Let's try this for our example\"\n",
    "\n",
    "pattern_1 = r'H.*?o'\n",
    "match_1 = re.search(pattern_1, text)\n",
    "\n",
    "if match_1:\n",
    "    print(\"Match using .*?:\", match_1.group())\n",
    "else:\n",
    "    print(\"No match found.\")\n",
    "    \n",
    "pattern_2 = r'H.*o'\n",
    "match_2 = re.search(pattern_2, text)\n",
    "\n",
    "if match_2:\n",
    "    print(\"Match using .*:\", match_2.group())\n",
    "else:\n",
    "    print(\"No match found.\")"
   ]
  },
  {
   "cell_type": "markdown",
   "id": "5777b751-5570-44c9-9b42-79134136ef55",
   "metadata": {},
   "source": [
    "#### 15. What is the syntax for matching both numbers and lowercase letters with a character class?\n",
    "**Ans:** The Synatax is Either **`[a-z0-9]`** or **`[0-9a-z]`**"
   ]
  },
  {
   "cell_type": "code",
   "execution_count": 14,
   "id": "462bc509-b6cf-4245-8403-ea094a7ec5f1",
   "metadata": {},
   "outputs": [
    {
     "name": "stdout",
     "output_type": "stream",
     "text": [
      "['abc123xyz']\n"
     ]
    }
   ],
   "source": [
    "# Example\n",
    "import re\n",
    "\n",
    "text = \"abc123xyz\"\n",
    "pattern = r'[0-9a-z]+'\n",
    "\n",
    "matches = re.findall(pattern, text)\n",
    "print(matches)  # Output: ['abc123xyz']\n"
   ]
  },
  {
   "cell_type": "markdown",
   "id": "2297abd9-197c-4b72-a771-f8276174db45",
   "metadata": {},
   "source": [
    "#### 16. What is the procedure for making a normal expression in regax case insensitive?\n",
    "**Ans:** We can pass **`re.IGNORECASE`** as a flag to make a noraml expression case insensitive"
   ]
  },
  {
   "cell_type": "markdown",
   "id": "ac4ab0e7-e087-49cc-a3d5-2ccacc493d01",
   "metadata": {},
   "source": [
    "#### 17. What does the . character normally match? What does it match if re.DOTALL is passed as 2nd argument in re.compile()?\n",
    "**Ans:** \n",
    "In Python's re module, the `. (dot)` character normally matches any character except a newline character (\\n). However, if the re.DOTALL flag is passed as the second argument to re.compile(), then the . character matches any character, including newline characters."
   ]
  },
  {
   "cell_type": "code",
   "execution_count": 15,
   "id": "63eb0fdf-20e4-461c-9800-3b409013167a",
   "metadata": {},
   "outputs": [
    {
     "name": "stdout",
     "output_type": "stream",
     "text": [
      "Normal behavior of .: Line 1\n",
      "Using re.DOTALL: Line 1\n",
      "Line 2\n"
     ]
    }
   ],
   "source": [
    "# Example\n",
    "import re\n",
    "\n",
    "text = \"Line 1\\nLine 2\"\n",
    "\n",
    "# Normal behavior of .\n",
    "pattern_normal = r'.+'\n",
    "regex_normal = re.compile(pattern_normal)\n",
    "match_normal = regex_normal.match(text)\n",
    "\n",
    "print(\"Normal behavior of .:\", match_normal.group())  # Output: Line 1\n",
    "\n",
    "# Using re.DOTALL\n",
    "pattern_dotall = r'.+'\n",
    "regex_dotall = re.compile(pattern_dotall, re.DOTALL)\n",
    "match_dotall = regex_dotall.match(text)\n",
    "\n",
    "print(\"Using re.DOTALL:\", match_dotall.group())  # Output: Line 1\\nLine 2\n"
   ]
  },
  {
   "cell_type": "markdown",
   "id": "47681849-11b3-4f38-a267-180eff96432e",
   "metadata": {},
   "source": [
    "#### 18. If numReg = re.compile(r'\\d+'), what will numRegex.sub('X', '11 drummers, 10 pipers, five rings, 4 hen') return?\n",
    "**Ans:** The Ouput will be **`'X drummers, X pipers, five rings, X hen'`**"
   ]
  },
  {
   "cell_type": "code",
   "execution_count": 16,
   "id": "4966faf6-05cb-4186-838c-b850a2839be1",
   "metadata": {},
   "outputs": [
    {
     "data": {
      "text/plain": [
       "'X drummers, X pipers, five rings, X hen'"
      ]
     },
     "execution_count": 16,
     "metadata": {},
     "output_type": "execute_result"
    }
   ],
   "source": [
    "import re\n",
    "numReg = re.compile(r'\\d+')\n",
    "numReg.sub('X', '11 drummers, 10 pipers, five rings, 4 hen')"
   ]
  },
  {
   "cell_type": "markdown",
   "id": "d89cbb30-021e-4ec5-b537-073726bed88d",
   "metadata": {},
   "source": [
    "#### 19. What does passing re.VERBOSE as the 2nd argument to re.compile() allow to do?\n",
    "**Ans:** Passing re.VERBOSE as the second argument to re.compile() allows for the use of verbose mode in regular expressions. In verbose mode, whitespace within the regular expression pattern is ignored (except when in a character class or escaped by a backslash), and comments are allowed."
   ]
  },
  {
   "cell_type": "code",
   "execution_count": 17,
   "id": "f783e49d-d26f-42da-9600-161dfe41fd55",
   "metadata": {},
   "outputs": [
    {
     "name": "stdout",
     "output_type": "stream",
     "text": [
      "Normal pattern match: 123-45-6789\n",
      "Verbose pattern match: 123-45-6789\n"
     ]
    }
   ],
   "source": [
    "import re\n",
    "\n",
    "# Regular expression without VERBOSE mode\n",
    "pattern_normal = r'\\d{3}-\\d{2}-\\d{4}'\n",
    "\n",
    "# Regular expression with VERBOSE mode\n",
    "pattern_verbose = r'''\n",
    "    \\d{3}   # Match three digits\n",
    "    -       # Match a hyphen\n",
    "    \\d{2}   # Match two digits\n",
    "    -       # Match a hyphen\n",
    "    \\d{4}   # Match four digits\n",
    "'''\n",
    "\n",
    "text = \"123-45-6789\"\n",
    "\n",
    "# Compile regular expressions\n",
    "regex_normal = re.compile(pattern_normal)\n",
    "regex_verbose = re.compile(pattern_verbose, re.VERBOSE)\n",
    "\n",
    "# Match using both regular expressions\n",
    "match_normal = regex_normal.match(text)\n",
    "match_verbose = regex_verbose.match(text)\n",
    "\n",
    "# Output the matched groups\n",
    "print(\"Normal pattern match:\", match_normal.group())  # Output: 123-45-6789\n",
    "print(\"Verbose pattern match:\", match_verbose.group())  # Output: 123-45-6789\n"
   ]
  },
  {
   "cell_type": "markdown",
   "id": "c26a94c7-4645-489f-94e7-462676f81400",
   "metadata": {},
   "source": [
    "#### 20. How would you write a regex that match a number with comma for every three digits? It must match the given following:\n",
    "`'42','1,234', '6,368,745'`but not the following: `'12,34,567'` (which has only two digits between the commas) `'1234'` (which lacks commas)"
   ]
  },
  {
   "cell_type": "code",
   "execution_count": 18,
   "id": "ed7cd7ef-c911-4528-87f1-6c6fb15b51b4",
   "metadata": {},
   "outputs": [
    {
     "name": "stdout",
     "output_type": "stream",
     "text": [
      "Output: 42 -> <re.Match object; span=(0, 2), match='42'>\n",
      "Output: 1,234 -> <re.Match object; span=(0, 5), match='1,234'>\n",
      "Output: 6,368,745 -> <re.Match object; span=(0, 9), match='6,368,745'>\n",
      "Output: 12,34,567 -> None\n",
      "Output: 1234 -> None\n"
     ]
    }
   ],
   "source": [
    "import re\n",
    "pattern = r'^\\d{1,3}(,\\d{3})*$' # start with (3 digits max) and ends with 0  or more (, and 3 dighits)\n",
    "pagex = re.compile(pattern)\n",
    "for ele in ['42','1,234', '6,368,745','12,34,567','1234']:\n",
    "    print('Output:',ele, '->', pagex.search(ele))"
   ]
  },
  {
   "cell_type": "markdown",
   "id": "a78bd2ce-04c7-4b43-8617-7bcc39da042d",
   "metadata": {},
   "source": [
    "#### 21. How would you write a regex that matches the full name of someone whose last name is Watanabe? You can assume that the first name that comes before it will always be one word that begins with a capital letter. The regex must match the following:\n",
    "`'Haruto Watanabe'`  \n",
    "`'Alice Watanabe'`  \n",
    "`'RoboCop Watanabe'`  \n",
    "\n",
    "but not the following:\n",
    "\n",
    "`'haruto Watanabe'` (where the first name is not capitalized)  \n",
    "`'Mr. Watanabe'` (where the preceding word has a nonletter character)  \n",
    "`'Watanabe'` (which has no first name)  \n",
    "`'Haruto watanabe'` (where Watanabe is not capitalized)  \n",
    "\n",
    "**Ans:** **`pattern = r'[A-Z]{1}[a-z]*\\sWatanabe'`**"
   ]
  },
  {
   "cell_type": "code",
   "execution_count": 19,
   "id": "ce1ae28b-8c16-4805-b04d-74ef6dc5d8d5",
   "metadata": {},
   "outputs": [
    {
     "name": "stdout",
     "output_type": "stream",
     "text": [
      "Output:  Haruto Watanabe -> <re.Match object; span=(0, 15), match='Haruto Watanabe'>\n",
      "Output:  Alice Watanabe -> <re.Match object; span=(0, 14), match='Alice Watanabe'>\n",
      "Output:  RoboCop Watanabe -> <re.Match object; span=(4, 16), match='Cop Watanabe'>\n",
      "Output:  haruto Watanabe -> None\n",
      "Output:  Mr. Watanabe -> None\n",
      "Output:  Watanabe -> None\n",
      "Output:  Haruto watanabe -> None\n"
     ]
    }
   ],
   "source": [
    "import re\n",
    "pattern = r'[A-Z]{1}[a-z]*\\sWatanabe'\n",
    "namex = re.compile(pattern)\n",
    "for name in ['Haruto Watanabe','Alice Watanabe','RoboCop Watanabe','haruto Watanabe','Mr. Watanabe','Watanabe','Haruto watanabe']:\n",
    "    print('Output: ',name,'->',namex.search(name))"
   ]
  },
  {
   "cell_type": "markdown",
   "id": "89466f71-7fc5-44b1-96f0-6ce0462dbfd9",
   "metadata": {},
   "source": [
    "#### 22. How would you write a regex that matches a sentence where the first word is either Alice, Bob,or Carol; the second word is either eats, pets, or throws; the third word is apples, cats, or baseballs; and the sentence ends with a period? This regex should be case-insensitive. It must match the following:\n",
    "`'Alice eats apples.'`  \n",
    "`'Bob pets cats.'`  \n",
    "`'Carol throws baseballs.'`  \n",
    "`'Alice throws Apples.'`  \n",
    "`'BOB EATS CATS.'`  \n",
    "\n",
    "but not the following:  \n",
    "\n",
    "`'RoboCop eats apples.'`  \n",
    "`'ALICE THROWS FOOTBALLS.'`   \n",
    "`'Carol eats 7 cats.'`  \n",
    "\n",
    "**Ans:** pattern = **`r'(Alice|Bob|Carol)\\s(eats|pets|throws)\\s(apples|cats|baseballs)\\.'`**"
   ]
  },
  {
   "cell_type": "code",
   "execution_count": 20,
   "id": "f5929c13-780e-42bd-8c90-b55493fcaf3b",
   "metadata": {},
   "outputs": [
    {
     "name": "stdout",
     "output_type": "stream",
     "text": [
      "Output:  Alice eats apples. -> <re.Match object; span=(0, 18), match='Alice eats apples.'>\n",
      "Output:  Bob pets cats. -> <re.Match object; span=(0, 14), match='Bob pets cats.'>\n",
      "Output:  Carol throws baseballs. -> <re.Match object; span=(0, 23), match='Carol throws baseballs.'>\n",
      "Output:  Alice throws Apples. -> <re.Match object; span=(0, 20), match='Alice throws Apples.'>\n",
      "Output:  BOB EATS CATS. -> <re.Match object; span=(0, 14), match='BOB EATS CATS.'>\n",
      "Output:  RoboCop eats apples. -> None\n",
      "Output:  ALICE THROWS FOOTBALLS. -> None\n",
      "Output:  Carol eats 7 cats. -> None\n"
     ]
    }
   ],
   "source": [
    "import re\n",
    "pattern = r'(Alice|Bob|Carol)\\s(eats|pets|throws)\\s(apples|cats|baseballs)\\.'\n",
    "casex = re.compile(pattern,re.IGNORECASE)\n",
    "for ele in ['Alice eats apples.','Bob pets cats.','Carol throws baseballs.','Alice throws Apples.','BOB EATS CATS.','RoboCop eats apples.'\n",
    ",'ALICE THROWS FOOTBALLS.','Carol eats 7 cats.']:\n",
    "    print('Output: ',ele,'->',casex.search(ele))"
   ]
  },
  {
   "cell_type": "code",
   "execution_count": null,
   "id": "410e0e75-75ce-4fe5-9571-862e63dd174f",
   "metadata": {},
   "outputs": [],
   "source": []
  }
 ],
 "metadata": {
  "kernelspec": {
   "display_name": "Python 3 (ipykernel)",
   "language": "python",
   "name": "python3"
  },
  "language_info": {
   "codemirror_mode": {
    "name": "ipython",
    "version": 3
   },
   "file_extension": ".py",
   "mimetype": "text/x-python",
   "name": "python",
   "nbconvert_exporter": "python",
   "pygments_lexer": "ipython3",
   "version": "3.12.2"
  }
 },
 "nbformat": 4,
 "nbformat_minor": 5
}
