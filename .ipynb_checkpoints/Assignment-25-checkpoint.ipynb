{
 "cells": [
  {
   "cell_type": "markdown",
   "id": "78db4751-cd33-4832-b159-6d1a80b622f9",
   "metadata": {},
   "source": [
    "# Assignment 25 Solutions"
   ]
  },
  {
   "cell_type": "markdown",
   "id": "a2e3b1f8-b125-44c8-8eb4-1b79b58c882d",
   "metadata": {},
   "source": [
    "#### 1) . What is the difference between enclosing a list comprehension in square brackets and parentheses?\n",
    "**Ans:** Enclosing a list comprehension in square brackets returns a list.but where as enclosing a list comprehension in parentheses returns a `generator` object"
   ]
  },
  {
   "cell_type": "code",
   "execution_count": 1,
   "id": "5686ac32-3079-4477-8719-79bea6c20f73",
   "metadata": {},
   "outputs": [
    {
     "name": "stdout",
     "output_type": "stream",
     "text": [
      "[0, 1, 2, 3, 4, 5, 6, 7, 8, 9] <class 'list'>\n",
      "<generator object <genexpr> at 0x0000024470429840> <class 'generator'>\n"
     ]
    }
   ],
   "source": [
    "l = [ele for ele in range(10)]\n",
    "print(l, type(l))\n",
    "g = (ele for ele in range(10))\n",
    "print(g, type(g))"
   ]
  },
  {
   "cell_type": "markdown",
   "id": "07f32997-146f-44d7-960b-0e41437eec52",
   "metadata": {},
   "source": [
    "#### 2) What is the relationship between generators and iterators?\n",
    "**Ans:** Generators and iterators are closely related concepts in Python, and understanding one helps in understanding the other. Here's the relationship between generators and iterators:\r\n",
    "\r\n",
    "1. **Iterators**:\r\n",
    "   - An iterator is an object that represents a stream of data. It provides a way to access elements of a collection one at a time without needing to know the underlying implementation.\r\n",
    "   - Iterators in Python are objects that implement the `__iter__()` and `__next__()` methods. The `__iter__()` method returns the iterator object itself, and the `__next__()` method returns the next item from the iterator.\r\n",
    "   - When an iterator is exhausted (i.e., it has no more elements to return), it raises a `StopIteration` exception.\r\n",
    "\r\n",
    "2. **Generators**:\r\n",
    "   - A generator is a special type of iterator that generates values on the fly using the `yield` statement. It allows you to define a sequence of values without explicitly creating a full list in memory.\r\n",
    "   - Generator functions are defined using the `def` keyword with `yield` statements inside. When called, a generator function returns a generator iterator.\r\n",
    "   - Each time the `yield` statement is encountered in a generator function, the function's state is saved, and the value is yielded to the caller. When the generator iterator is called again, the function resumes execution from where it left off.\r\n",
    "\r\n",
    "3. **Relationship**:\r\n",
    "   - Generators are a convenient way to create iterators in Python. When you define a generator function, Python automatically creates an iterator object for you.\r\n",
    "   - Generator functions are iterators themselves because they implement the iterator protocol (i.e., they have `__iter__()` and `__next__()` methods).\r\n",
    "   - The main difference between a generator and a regular iterator is that generators use the `yield` statement to produce values lazily, whereas a traditional iterator may need to precompute or store all values in memory upfront.\r\n",
    "   - Generators are often more memory-efficient and convenient than manually implementing custom iterator classes.\r\n",
    "\r\n",
    "In summary, generators are a specific type of iterator that allows for lazy evaluation of values using the `yield` statement. They provide a convenient way to generate values on-the-fly without needing to store all values in memory at once, making them useful for working with large or infinite sequences of data."
   ]
  },
  {
   "cell_type": "markdown",
   "id": "bc8eeea9-0d81-456f-b001-50a13e2ae52e",
   "metadata": {},
   "source": [
    "#### 3) What are the signs that a function is a generator function?\n",
    "**Ans:** A generator function uses a `yield` statement instead of a `return` statement. A generator function will always return a iterable object called generator. where as a normal function can return a `string/list/tuple/dict/NoneType` ... etc"
   ]
  },
  {
   "cell_type": "markdown",
   "id": "7fd1dc1a-d037-4bf2-9abe-dcb0e5247d7d",
   "metadata": {},
   "source": [
    "#### 4) What is the purpose of a yield statement?\n",
    "**Ans:** The yield statement suspends function’s execution and sends a value back to the caller, but retains enough state to enable function to resume where it is left off. When resumed, the function continues execution immediately after the last yield run. This allows its code to produce a series of values over time, rather than computing them at once and sending them back like a list."
   ]
  },
  {
   "cell_type": "markdown",
   "id": "7f7473ca-b08b-4dad-b1f3-a08c779f21a8",
   "metadata": {},
   "source": [
    "#### 5) What is the relationship between map calls and list comprehensions? Make a comparison and contrast between the two ?\n",
    "**Ans:** The main differences between map calls and list comprehensiosn are:\n",
    "1. List comprehension is more concise and easier to read as compared to map.\n",
    "2. List comprehension allows filtering. In map, we have no such facility. For example, to print all odd numbers in range of 50, we can write `[n for n in range(50) if n%2 != 0]`. There is no alternate for it in map\n",
    "3. List comprehension are used when a list of results is required as final output.but map only returns a map object. it needs to be explicitly coverted to desired datatype.\n",
    "4. List comprehension is faster than map when we need to evaluate expressions that are too long or complicated to express\n",
    "5. Map is faster in case of calling an already defined function on a set of values."
   ]
  },
  {
   "cell_type": "code",
   "execution_count": null,
   "id": "cf859dfb-14e9-44e4-a549-163d2abdc8a7",
   "metadata": {},
   "outputs": [],
   "source": []
  }
 ],
 "metadata": {
  "kernelspec": {
   "display_name": "Python 3 (ipykernel)",
   "language": "python",
   "name": "python3"
  },
  "language_info": {
   "codemirror_mode": {
    "name": "ipython",
    "version": 3
   },
   "file_extension": ".py",
   "mimetype": "text/x-python",
   "name": "python",
   "nbconvert_exporter": "python",
   "pygments_lexer": "ipython3",
   "version": "3.12.2"
  }
 },
 "nbformat": 4,
 "nbformat_minor": 5
}
