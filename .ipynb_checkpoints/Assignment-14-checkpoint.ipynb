{
 "cells": [
  {
   "cell_type": "markdown",
   "id": "a465c86e-1a66-4fb7-bc6b-bde593a1a6b4",
   "metadata": {},
   "source": [
    "# Assignment 14 Solutions"
   ]
  },
  {
   "cell_type": "markdown",
   "id": "bf77aac3-3ea8-4993-ab4e-81af4a8e5a50",
   "metadata": {},
   "source": [
    "#### 1. What does RGBA stand for?\n",
    "**Ans:** **RGBA** is a four-channel format containing data for `Red`, `Green`, `Blue`, and an `Alpha` value. Where Alpha Represents the Opacity"
   ]
  },
  {
   "cell_type": "markdown",
   "id": "1eb57140-3238-4421-81e6-4ad1daa502e3",
   "metadata": {},
   "source": [
    "#### 2. From the Pillow module, how do you get the RGBA value of any images?\n",
    "**Ans:** In the Pillow module (Python Imaging Library, or PIL), you can use the `getpixel()` method to get the RGBA (Red, Green, Blue, Alpha) value of any pixel in an image. The getpixel() method returns a tuple containing the RGBA values of the specified pixel."
   ]
  },
  {
   "cell_type": "code",
   "execution_count": 2,
   "id": "7558c3bf-b89e-417c-9d5b-d5eb47d09f26",
   "metadata": {},
   "outputs": [
    {
     "name": "stdout",
     "output_type": "stream",
     "text": [
      "RGBA value at (100, 200): (19, 28, 35)\n"
     ]
    }
   ],
   "source": [
    "from PIL import Image\n",
    "\n",
    "# Open an image file\n",
    "image = Image.open('image.jpg')\n",
    "\n",
    "# Get the size of the image\n",
    "width, height = image.size\n",
    "\n",
    "# Get the RGBA value of the pixel at coordinate (x, y)\n",
    "x = 100\n",
    "y = 200\n",
    "rgba_value = image.getpixel((x, y))\n",
    "\n",
    "print(f'RGBA value at ({x}, {y}): {rgba_value}')\n"
   ]
  },
  {
   "cell_type": "markdown",
   "id": "0412026a-ef52-4420-af49-e898a180596b",
   "metadata": {},
   "source": [
    "#### 3. What is a box tuple, and how does it work?\n",
    "**Ans:** In the context of the Python Imaging Library (PIL) or Pillow module, a \"box tuple\" is a tuple that represents a rectangular region or bounding box in an image. It is typically used to specify the coordinates of a rectangular area within an image.\r\n",
    "\r\n",
    "A box tuple contains four integer values representing the coordinates of the top-left corner (x0, y0) and the bottom-right corner (x1, y1) of the rectangular region"
   ]
  },
  {
   "cell_type": "markdown",
   "id": "c96b1720-20ac-48e6-be56-f3bf1133e886",
   "metadata": {},
   "source": [
    "#### 4. Use your image and load in notebook then, How can you find out the width and height of an Image object?"
   ]
  },
  {
   "cell_type": "code",
   "execution_count": 3,
   "id": "71a9d851-2c3f-4b5f-bf98-40b36d216d42",
   "metadata": {},
   "outputs": [
    {
     "name": "stdout",
     "output_type": "stream",
     "text": [
      "Width, Height -> (600, 500)\n",
      "Width, Height -> 600,500\n",
      "Width, Height -> 600,500\n"
     ]
    }
   ],
   "source": [
    "from PIL import Image\n",
    "pic = Image.open('image.jpg')\n",
    "print(f'Width, Height -> {pic.size}') # Approach 1\n",
    "print(f'Width, Height -> {pic.width},{pic.height}') # Approach 2\n",
    "width,height = pic.size\n",
    "print(f'Width, Height -> {width},{height}') # Approach 3"
   ]
  },
  {
   "cell_type": "markdown",
   "id": "4371264c-9997-4041-aa1c-e265d08003b7",
   "metadata": {},
   "source": [
    "#### 5. What method would you call to get Image object for a 100×100 image, excluding the lower-left quarter of it?\n",
    "**Ans:** To get an Image object for a 100x100 image, excluding the lower-left quarter of it, you can use the crop() method of the Image object. The crop() method allows you to extract a rectangular region (a box tuple) from an image."
   ]
  },
  {
   "cell_type": "code",
   "execution_count": 13,
   "id": "93f8982f-b85a-461b-9e38-4d3eed3fe239",
   "metadata": {},
   "outputs": [],
   "source": [
    "from PIL import Image\n",
    "\n",
    "# Open the original image\n",
    "original_image = Image.open('image.jpg')\n",
    "\n",
    "# Define the coordinates of the rectangular region to crop\n",
    "# (x0, y0, x1, y1) = (0, 50, 50, 100)\n",
    "# This defines a box tuple representing the lower-left quarter of the image\n",
    "# We want to exclude this region, so we'll crop the image outside of this region\n",
    "cropped_image = original_image.crop((0, 50, 100, 100))\n",
    "\n",
    "# Display or save the cropped image\n",
    "cropped_image.show()\n",
    "# cropped_image.save('cropped_image.png')  # Save the cropped image to a file\n"
   ]
  },
  {
   "cell_type": "markdown",
   "id": "2e626582-f569-4534-85ee-cce1b3b2f7d1",
   "metadata": {},
   "source": [
    "#### 6. After making changes to an Image object, how could you save it as an image file?"
   ]
  },
  {
   "cell_type": "code",
   "execution_count": 11,
   "id": "66afd7a9-df1d-40ae-aab1-e16233a3192f",
   "metadata": {},
   "outputs": [],
   "source": [
    "# Example Program\n",
    "from PIL import Image\n",
    "pic = Image.open('image.jpg')\n",
    "pic.save('image_2.jpg')"
   ]
  },
  {
   "cell_type": "markdown",
   "id": "f98035ef-3306-448e-8263-df656ef53e96",
   "metadata": {},
   "source": [
    "#### 7. What module contains Pillow’s shape-drawing code?\n",
    "**Ans:** Pillows **`ImageDraw`** module contains Shape drawing methods"
   ]
  },
  {
   "cell_type": "markdown",
   "id": "fffcf424-f563-44af-ab6f-fa565095e847",
   "metadata": {},
   "source": [
    "#### 8. Image objects do not have drawing methods. What kind of object does? How do you get this kind of object?\n",
    "**Ans:** ImageDraw objects have shape-drawing methods such as `point()`, `line()`, or `rectangle()`.They are returned by passing the Image object to the `ImageDraw.Draw()` function."
   ]
  },
  {
   "cell_type": "code",
   "execution_count": 12,
   "id": "6e1bb8a4-a084-43c7-a3d9-866bb27630c9",
   "metadata": {},
   "outputs": [],
   "source": [
    "from PIL import Image, ImageDraw\n",
    "\n",
    "# Create a new image with a white background\n",
    "image = Image.new('RGB', (400, 300), color='white')\n",
    "\n",
    "# Create an ImageDraw object for drawing shapes on the image\n",
    "draw = ImageDraw.Draw(image)\n",
    "\n",
    "# Draw a red rectangle with a green outline\n",
    "draw.rectangle([50, 50, 200, 150], fill='red', outline='green')\n",
    "\n",
    "# Draw a blue ellipse\n",
    "draw.ellipse([250, 50, 350, 150], fill='blue')\n",
    "\n",
    "# Draw a black line\n",
    "draw.line([(50, 200), (200, 250)], fill='black', width=3)\n",
    "\n",
    "# Save or display the image with the drawn shapes\n",
    "image.show()\n",
    "# image.save('drawn_image.png')  # Save the image to a file\n"
   ]
  },
  {
   "cell_type": "code",
   "execution_count": null,
   "id": "386f28e2-cccc-480e-b38b-e671f05b1f0e",
   "metadata": {},
   "outputs": [],
   "source": []
  }
 ],
 "metadata": {
  "kernelspec": {
   "display_name": "Python 3 (ipykernel)",
   "language": "python",
   "name": "python3"
  },
  "language_info": {
   "codemirror_mode": {
    "name": "ipython",
    "version": 3
   },
   "file_extension": ".py",
   "mimetype": "text/x-python",
   "name": "python",
   "nbconvert_exporter": "python",
   "pygments_lexer": "ipython3",
   "version": "3.12.2"
  }
 },
 "nbformat": 4,
 "nbformat_minor": 5
}
