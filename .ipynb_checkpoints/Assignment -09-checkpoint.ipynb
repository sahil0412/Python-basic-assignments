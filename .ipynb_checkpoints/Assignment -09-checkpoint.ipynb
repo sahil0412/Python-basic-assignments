{
 "cells": [
  {
   "cell_type": "markdown",
   "id": "ef4101e1-06b0-41ff-a633-a0029bc5c311",
   "metadata": {},
   "source": [
    "# Assignment 9 Solutions"
   ]
  },
  {
   "cell_type": "markdown",
   "id": "96a8b609-de66-4ce2-b2cb-58a4af85304e",
   "metadata": {},
   "source": [
    "#### 1.To what does a relative path refer ?\n",
    "**Ans:** The relative path is the path to some file with respect to your current working directory (PWD).  \n",
    "**For example:** if Absolute path to a file called stuff.txt is: `C:/users/admin/docs/stuff.txt` If my PWD is `C:/users/admin/` , then the relative path to `stuff.txt` would be: `docs/stuff.txt`       \n",
    "**Note:** PWD + relative path = absolute path"
   ]
  },
  {
   "cell_type": "markdown",
   "id": "4c964214-e056-4f95-9496-61596b9dcf4b",
   "metadata": {},
   "source": [
    "#### 2.Where does an absolute path start with your Operating System ?\n",
    "**Ans:** An absolute path starts with a drive letter followed by a colon (:), such as `C:\\` for the C drive. For example, `C:\\Users\\Username\\Documents\\file.txt`."
   ]
  },
  {
   "cell_type": "markdown",
   "id": "72f44010-3332-4872-b268-27ddba1e6901",
   "metadata": {},
   "source": [
    "#### 3.What does the functions `os.getcwd()` and `os.chdir()` do ?\n",
    "**Ans:** `os.getcwd()` method tells us the location of current working directory (CWD). Whereas `os.chdir()` method in Python used to change the current working directory to specified path. These functions are similar to linux commands `pwd` and `cd`"
   ]
  },
  {
   "cell_type": "code",
   "execution_count": 1,
   "id": "961ff6eb-de78-430f-86cb-b83b9ca494b7",
   "metadata": {},
   "outputs": [
    {
     "name": "stdout",
     "output_type": "stream",
     "text": [
      "E:\\My Projects\\Assignments\\Python basic assignemnts\n",
      "C:\\Users\\Acer\\Documents\n"
     ]
    }
   ],
   "source": [
    "import os\n",
    "print(os.getcwd()) # Prints the current Working Directory\n",
    "path = r'C:\\Users\\Acer\\Documents'\n",
    "os.chdir(path)\n",
    "print(os.getcwd())"
   ]
  },
  {
   "cell_type": "markdown",
   "id": "7db095ab-95f1-449f-8985-d9275aebb1af",
   "metadata": {},
   "source": [
    "#### 4.What are `.` and `..`  folders ?\n",
    "**Ans:** `.` Represents the Current Directory Whereas `..` Represents the Parent Directory of the Current Directory  \n",
    "**For Example:** \n",
    "if the below path is my absolute path:  \n",
    "`E:\\My Projects\\Assignments\\Python basic assignemnts`  \n",
    "Then `.` represents the path `E:\\My Projects\\Assignments\\Python basic assignemnts`  \n",
    "Where as `..` represents the path `E:\\My Projects\\Assignments`"
   ]
  },
  {
   "cell_type": "markdown",
   "id": "8f15678e-0fd5-45f0-a479-7e3cc0630e09",
   "metadata": {},
   "source": [
    "#### 5.In `C:\\bacon\\eggs\\spam.txt` which part is the dir name and which part is the base name ?\n",
    "**Ans:** For `C:\\bacon\\eggs\\spam.txt`  \n",
    "The dir name is `C:\\\\bacon\\\\eggs`  \n",
    "The Base name is `spam.txt`"
   ]
  },
  {
   "cell_type": "code",
   "execution_count": 2,
   "id": "ddc18d7b-11fe-42cc-b94c-51ea1a40910c",
   "metadata": {},
   "outputs": [
    {
     "name": "stdout",
     "output_type": "stream",
     "text": [
      "C:\\bacon\\eggs\n",
      "spam.txt\n"
     ]
    }
   ],
   "source": [
    "import os\n",
    "path = r'C:\\bacon\\eggs\\spam.txt'\n",
    "print(os.path.dirname(path))\n",
    "print(os.path.basename(path))"
   ]
  },
  {
   "cell_type": "markdown",
   "id": "a9877a8d-54d6-4865-bc96-61b11d9eff0d",
   "metadata": {},
   "source": [
    "#### 6.What are the three `mode` arguments that can be passed to the `open()` function ?\n",
    "**Ans:** In Python, the open() function is used to open files and returns a file object. It takes two main arguments: the file path and the mode in which the file should be opened. The mode argument specifies how the file will be used (e.g., read, write, append, etc.). There are several mode arguments that can be passed to the open() function, but the three most common ones are:\r",
    "* **`‘r’`** – Read Mode: This is the default mode for open(). The file is opened and a pointer is positioned at the beginning of the file’s content.\n",
    "* **`‘w’`** – Write Mode: Using this mode will overwrite any existing content in a file. If the given file does not exist, a new one will be created. \n",
    "* **`‘a’`** – Append Mode: With this mode the user can append the data without overwriting any already existing data in the file. e.txt', 'a')"
   ]
  },
  {
   "cell_type": "markdown",
   "id": "b606577f-ce8b-472f-a447-755066404b7a",
   "metadata": {},
   "source": [
    "#### 7.What happens if an existing file is opened in write mode ?\n",
    "**Ans:** Using this mode will overwrite any existing content in a file. If the given file does not exist, a new one will be created."
   ]
  },
  {
   "cell_type": "markdown",
   "id": "88d0694d-d0d5-4b73-92f7-2370d09f51cf",
   "metadata": {},
   "source": [
    "#### 8.How do you tell the difference between `read()` and `readlines()` ?\n",
    "**Ans:** In Python, both the `read()` and `readlines()` methods are used to read data from a file object, but they differ in how they read and return the data.\n",
    "* The **`read()`** would treat each character in the file separately, meaning that the iteration would happen for every character.\n",
    "* The **`readline()`** function, on the other hand, only reads a single line of the file. This means that if the first line of the file were three lines long, the readline() function would only parse (or iterate/operate) on the first line of the file."
   ]
  },
  {
   "cell_type": "markdown",
   "id": "37cbc737-1965-4379-a586-79340e7d8b86",
   "metadata": {},
   "source": [
    "#### 9.What data structure does a shelf value resemble ?\n",
    "**Ans:** In Python, the `shelve` module provides a simple interface for persistent storage of Python objects, such as dictionaries, in a file. The data structure used in shelve values resembles a dictionary.\r\n",
    "\r\n",
    "When using the shelve module, you can store and retrieve data using keys similar to a dictionary. However, unlike a regular dictionary where the data is stored in memory and lost when the program exits, the data stored in a shelve object is persisted to disk and can be accessed across multiple program executions."
   ]
  },
  {
   "cell_type": "code",
   "execution_count": null,
   "id": "587f1391-a69f-4978-92c8-b9f19e766e4c",
   "metadata": {},
   "outputs": [],
   "source": []
  }
 ],
 "metadata": {
  "kernelspec": {
   "display_name": "Python 3 (ipykernel)",
   "language": "python",
   "name": "python3"
  },
  "language_info": {
   "codemirror_mode": {
    "name": "ipython",
    "version": 3
   },
   "file_extension": ".py",
   "mimetype": "text/x-python",
   "name": "python",
   "nbconvert_exporter": "python",
   "pygments_lexer": "ipython3",
   "version": "3.12.2"
  }
 },
 "nbformat": 4,
 "nbformat_minor": 5
}
