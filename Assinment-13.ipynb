{
 "cells": [
  {
   "cell_type": "markdown",
   "id": "2091bea2-24c2-452a-860e-79a314282603",
   "metadata": {},
   "source": [
    "# Assignment 13 Solutions"
   ]
  },
  {
   "cell_type": "markdown",
   "id": "4033c6e8-82e0-40ad-afdb-658baade0685",
   "metadata": {},
   "source": [
    "#### 1. What advantages do Excel spreadsheets have over CSV spreadsheets?\n",
    "**Ans:** The Advantages of Excel over CSV are:\n",
    "1. Excel (XLS and XLSX) file formats are better for storing and analysing complex data.\n",
    "2. An Excel not only stores data but can also do operations on the data using macros, formulas etc\n",
    "3. CSV files are plain-text files, Does not contain formatting, formulas, macros, etc. It is also known as flat files"
   ]
  },
  {
   "cell_type": "markdown",
   "id": "d8d61f06-89a6-46cf-adba-a50f9c73e136",
   "metadata": {},
   "source": [
    "#### 2.What do you pass to csv.reader() and csv.writer() to create reader and writer objects?"
   ]
  },
  {
   "cell_type": "markdown",
   "id": "faa96a27-c851-4e99-b22e-35cc501c2888",
   "metadata": {},
   "source": [
    "**Ans:** To create reader and writer objects using the csv.reader() and csv.writer() functions from the csv module in Python, you pass file objects as arguments. These file objects should be opened in text mode with the appropriate file access mode ('r' for reading or 'w' for writing)."
   ]
  },
  {
   "cell_type": "code",
   "execution_count": 13,
   "id": "ab91e027-a73f-4438-b404-a9e1a9a528e7",
   "metadata": {},
   "outputs": [
    {
     "name": "stdout",
     "output_type": "stream",
     "text": [
      "['Name', 'Age', 'City']\n",
      "['John', '30', 'New York']\n",
      "['Alice', '25', 'Los Angeles']\n"
     ]
    }
   ],
   "source": [
    "# Example Creating a Reader Object:\n",
    "import csv\n",
    "\n",
    "with open('output.csv', 'r', newline='') as file:\n",
    "    reader = csv.reader(file)\n",
    "    # Use the reader object to iterate over rows in the CSV file\n",
    "    for row in reader:\n",
    "        print(row)"
   ]
  },
  {
   "cell_type": "code",
   "execution_count": 9,
   "id": "1ba2f6c3-6a59-4061-b7a3-d986c3d89d3b",
   "metadata": {},
   "outputs": [],
   "source": [
    "# Example Creating a Writer Object:\n",
    "import csv\n",
    "\n",
    "with open('data.csv', 'w', newline='') as file:\n",
    "    writer = csv.writer(file)\n",
    "    # Use the writer object to write rows to the CSV file\n",
    "    writer.writerow(['Name', 'Age', 'City'])\n",
    "    writer.writerow(['John', '30', 'New York'])\n",
    "    writer.writerow(['Alice', '25', 'Los Angeles'])\n"
   ]
  },
  {
   "cell_type": "markdown",
   "id": "1b4ba3f9-ccad-4b56-985f-636a7be037d0",
   "metadata": {},
   "source": [
    "#### 3. What modes do File objects for reader and writer objects need to be opened in?\n",
    "**Ans:** For `csv.reader(iterable_file_object)`, the file objects needed to be opened in `read` mode `mode='r'` Whereas for `csv.writer(iterable_file_object)` the file objects needed to be opened in `write` mode `mode='w'`\n"
   ]
  },
  {
   "cell_type": "markdown",
   "id": "82f7c4d1-2ed8-4a81-a45c-137a6a88c5ba",
   "metadata": {},
   "source": [
    "#### 4. What method takes a list argument and writes it to a CSV file?\n",
    "**Ans:** csv.writer class provides two methods for writing to CSV. They are `writerow()` and `writerows().` writerow() method writes a single row at a time. Whereas writerows() method is used to write multiple rows at a time."
   ]
  },
  {
   "cell_type": "code",
   "execution_count": 10,
   "id": "1247e738-c03f-49a5-a55b-48f7649108f7",
   "metadata": {},
   "outputs": [],
   "source": [
    "import csv\n",
    "\n",
    "# Data to write to the CSV file (list of lists)\n",
    "data = [\n",
    "    ['Name', 'Age', 'City'],\n",
    "    ['John', '30', 'New York'],\n",
    "    ['Alice', '25', 'Los Angeles']\n",
    "]\n",
    "\n",
    "# Open the CSV file in write mode with newline=''\n",
    "with open('output.csv', 'w', newline='') as file:\n",
    "    # Create a writer object\n",
    "    writer = csv.writer(file)\n",
    "\n",
    "    # Write multiple rows to the CSV file\n",
    "    writer.writerows(data)\n"
   ]
  },
  {
   "cell_type": "markdown",
   "id": "1fdda938-c6bc-47fb-a5ce-29694f50c8cd",
   "metadata": {},
   "source": [
    "#### 5. What do the keyword arguments delimiter and line terminator do?\n",
    "**Ans:** Lets take the example of a csv file:  \n",
    "`First Name, Last Name, Age`  \n",
    "`sahil, aggarwal, 26`  \n",
    "`manoj, pandey, 27`  \n",
    "Here `','` is Delimiter. We can use any Character as per our needs if required. Similarly Line Terminator comes at end of line by default it is newline and can be changed accourding to Requirement."
   ]
  },
  {
   "cell_type": "markdown",
   "id": "8d4d3c1a-9d6d-4b32-8a7b-4988a4ada77f",
   "metadata": {},
   "source": [
    "#### 6. What function takes a string of JSON data and returns a Python data structure?\n",
    "**Ans:** `loads()` method takes a string of JSON data and returns a Python data structure"
   ]
  },
  {
   "cell_type": "code",
   "execution_count": 11,
   "id": "e8f989f8-9ab2-4638-9030-22be7aad5bde",
   "metadata": {},
   "outputs": [
    {
     "name": "stdout",
     "output_type": "stream",
     "text": [
      "{\n",
      "    \"Name\": \"Sahil Aggarwal\",\n",
      "    \"Qualification\": \"Bachelor of Technology\",\n",
      "    \"Stream\": \"Computer Science and Engineering\"\n",
      "}\n",
      "Type of my_details_json is <class 'str'>\n",
      "{'Name': 'Sahil Aggarwal', 'Qualification': 'Bachelor of Technology', 'Stream': 'Computer Science and Engineering'}\n",
      "Type of my_details is <class 'dict'>\n"
     ]
    }
   ],
   "source": [
    "# Example of json.loads() method\n",
    "import json\n",
    "my_details_json ='''{\n",
    "    \"Name\": \"Sahil Aggarwal\",\n",
    "    \"Qualification\": \"Bachelor of Technology\",\n",
    "    \"Stream\": \"Computer Science and Engineering\"\n",
    "}'''\n",
    "print(my_details_json)\n",
    "print(f'Type of my_details_json is {type(my_details_json)}')\n",
    "my_details = json.loads(my_details_json)\n",
    "print(my_details)\n",
    "print(f'Type of my_details is {type(my_details)}')"
   ]
  },
  {
   "cell_type": "markdown",
   "id": "158ffe56-a1ab-4aa1-92eb-b9a913e9ddd4",
   "metadata": {},
   "source": [
    "#### 7. What function takes a Python data structure and returns a string of JSON data?\n",
    "**Ans:** `dumps()` method takes a python data structure and returns a string of JSON data"
   ]
  },
  {
   "cell_type": "code",
   "execution_count": 12,
   "id": "4a6ca6fc-a9b7-47b3-b8bd-31c3ccc59797",
   "metadata": {},
   "outputs": [
    {
     "name": "stdout",
     "output_type": "stream",
     "text": [
      "{'Name': 'Sahil Aggarwal', 'Qualification': 'Bachelor of Technology', 'Stream': 'Computer Science and Engineering'}\n",
      "Type of my_details is <class 'dict'>\n",
      "{\n",
      "    \"Name\": \"Sahil Aggarwal\",\n",
      "    \"Qualification\": \"Bachelor of Technology\",\n",
      "    \"Stream\": \"Computer Science and Engineering\"\n",
      "}\n",
      "Type of my_details_json is <class 'str'>\n"
     ]
    }
   ],
   "source": [
    "# Example of json.dumps() method\n",
    "import json\n",
    "my_details = {\n",
    "    \"Name\": \"Sahil Aggarwal\",\n",
    "    \"Qualification\": \"Bachelor of Technology\",\n",
    "    \"Stream\": \"Computer Science and Engineering\"\n",
    "}\n",
    "print(my_details)\n",
    "print(f'Type of my_details is {type(my_details)}')\n",
    "my_details_json = json.dumps(my_details, indent=4, sort_keys=True)\n",
    "print(my_details_json)\n",
    "print(f'Type of my_details_json is {type(my_details_json)}')"
   ]
  }
 ],
 "metadata": {
  "kernelspec": {
   "display_name": "Python 3 (ipykernel)",
   "language": "python",
   "name": "python3"
  },
  "language_info": {
   "codemirror_mode": {
    "name": "ipython",
    "version": 3
   },
   "file_extension": ".py",
   "mimetype": "text/x-python",
   "name": "python",
   "nbconvert_exporter": "python",
   "pygments_lexer": "ipython3",
   "version": "3.12.2"
  }
 },
 "nbformat": 4,
 "nbformat_minor": 5
}
