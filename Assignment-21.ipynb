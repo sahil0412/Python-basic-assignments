{
 "cells": [
  {
   "cell_type": "markdown",
   "id": "3aa5617b-6e9e-4d9c-bce2-5747543c8d86",
   "metadata": {},
   "source": [
    "# Assignment 21 Solutions"
   ]
  },
  {
   "cell_type": "markdown",
   "id": "e49e53d5-2a12-4a4a-ab25-53ca01390165",
   "metadata": {},
   "source": [
    "#### 1. Add the current date to the text file today.txt as a string."
   ]
  },
  {
   "cell_type": "code",
   "execution_count": 2,
   "id": "5e877c96-4f46-4fc3-87a2-1cd32d97b85d",
   "metadata": {},
   "outputs": [],
   "source": [
    "import datetime\n",
    "# Code to Add current date to the today.txt file\n",
    "file = open('today.txt','w')\n",
    "file.write(datetime.datetime.now().strftime(\"%d-%m-%Y\"))\n",
    "file.close()\n"
   ]
  },
  {
   "cell_type": "markdown",
   "id": "380c454e-e973-4ad0-8612-73f3b11f29a6",
   "metadata": {},
   "source": [
    "#### 2. Read the text file today.txt into the string today_string"
   ]
  },
  {
   "cell_type": "code",
   "execution_count": 3,
   "id": "1482ffc0-cec2-4b78-bdee-32e3266cc486",
   "metadata": {},
   "outputs": [
    {
     "name": "stdout",
     "output_type": "stream",
     "text": [
      "24-03-2024\n"
     ]
    }
   ],
   "source": [
    "file = open('today.txt','r')\n",
    "today_string = file.read()\n",
    "print(today_string)"
   ]
  },
  {
   "cell_type": "markdown",
   "id": "0baf6e2d-9eab-42c4-90a5-2a9e465ffaae",
   "metadata": {},
   "source": [
    "#### 3. Parse the date from today_string."
   ]
  },
  {
   "cell_type": "code",
   "execution_count": 4,
   "id": "957c6e64-835c-4984-a472-e5942976fd2e",
   "metadata": {},
   "outputs": [
    {
     "name": "stdout",
     "output_type": "stream",
     "text": [
      "2024-03-24 00:00:00\n"
     ]
    }
   ],
   "source": [
    "from datetime import datetime\n",
    "parsed_data = datetime.strptime(today_string, '%d-%m-%Y')\n",
    "print(parsed_data)"
   ]
  },
  {
   "cell_type": "markdown",
   "id": "caf86efe-be36-4866-914d-59635c8eeabb",
   "metadata": {},
   "source": [
    "#### 4. List the files in your current directory"
   ]
  },
  {
   "cell_type": "code",
   "execution_count": 5,
   "id": "f8fb7c3b-f7a2-45c4-b459-be7e043b9b4f",
   "metadata": {},
   "outputs": [
    {
     "name": "stdout",
     "output_type": "stream",
     "text": [
      "Assignment -01.ipynb\n",
      "Assignment -02.ipynb\n",
      "Assignment -03.ipynb\n",
      "Assignment -04.ipynb\n",
      "Assignment -05.ipynb\n",
      "Assignment -06.ipynb\n",
      "Assignment -07.ipynb\n",
      "Assignment -09.ipynb\n",
      "Assignment -10.ipynb\n",
      "Assignment -11.ipynb\n",
      "Assignment -12.ipynb\n",
      "Assignment-08.ipynb\n",
      "Assignment-14.ipynb\n",
      "Assignment-15.ipynb\n",
      "Assignment-16.ipynb\n",
      "Assignment-17.ipynb\n",
      "Assignment-18.ipynb\n",
      "Assignment-19.ipynb\n",
      "Assignment-20.ipynb\n",
      "Assignment-21.ipynb\n",
      "Assinment-13.ipynb\n",
      "books.csv\n",
      "books.db\n",
      "image.jpg\n",
      "image_2.jpg\n",
      "new_document.docx\n",
      "programLog.txt\n",
      "test.txt\n",
      "timeseries+fsdsbootcamp2.0.pdf\n",
      "today.txt\n",
      "zoo.py\n",
      "COMMIT_EDITMSG\n",
      "config\n",
      "description\n",
      "HEAD\n",
      "index\n",
      "applypatch-msg.sample\n",
      "commit-msg.sample\n",
      "fsmonitor-watchman.sample\n",
      "post-update.sample\n",
      "pre-applypatch.sample\n",
      "pre-commit.sample\n",
      "pre-merge-commit.sample\n",
      "pre-push.sample\n",
      "pre-rebase.sample\n",
      "pre-receive.sample\n",
      "prepare-commit-msg.sample\n",
      "push-to-checkout.sample\n",
      "sendemail-validate.sample\n",
      "update.sample\n",
      "exclude\n",
      "HEAD\n",
      "main\n",
      "main\n",
      "29145ee4be380dec93c6636fb111d2a313f2e4\n",
      "db9793e6b655e08383983b4e6bbd368742f107\n",
      "30fcb3954824a357a1fd8551761601049833c8\n",
      "6290caae407008297501baf2bdb79dee1256eb\n",
      "b76bd1bdf401009f5808b11c950dc272ebc2d1\n",
      "90c59a3ab7832965c667820f2207247b729382\n",
      "c5e8ac074818b7089a5da59f683fa8a2bbc67c\n",
      "187c5f3d3875240e72c1a9b715d99e6019c6b4\n",
      "5617f6038a97401f69591fd779294162ed6236\n",
      "67e12628fde2003515043f1307b4c8ce073693\n",
      "7fd06e902bd366e1191f35de9c2e2ee9fc0e40\n",
      "116c039829a426d3a3b23821830e84300b6b81\n",
      "abb8f0483327a5b389dc052bf981c06d7aa6b5\n",
      "17e869a6eee04f818dc8129eeac3822468c5c8\n",
      "ca5b53a9c64f2d84dd513e8cc13d8ee1c3b8d1\n",
      "24fa5500a7d76e5c7bdba284bfe62aab01a627\n",
      "0cf4d0789881d782a94fe6ef7d5cdd35fd312d\n",
      "b72703f0f2c67ea85a8a4a891f3bfa79ad76be\n",
      "9b41be77bf844a5ac34a5a9b1e1bb9793fd789\n",
      "e94ebd24e6698559cdcf2f66bd2c73eec233b1\n",
      "4cc6ba6912411c0b45eb4610ed940f56036c9f\n",
      "88ea0b02ef1ca0aef05eb5372c6c459540fe5e\n",
      "f6ff4ec2e9d000c8b0af391a94dc6eebcc8247\n",
      "fd591556e946e11d6d0b8416a9a754197d3d53\n",
      "0518219ade5ad5af582268bd2429304119ad6f\n",
      "19de23ec3d0b6aac184798bea6924473c2e44e\n",
      "2d17dd175d253f7afffdbea0f24479497cc2a8\n",
      "db06277c1f74b22c7c9536b97ae193615eb520\n",
      "090c745aded510917df7f3af1df2af068aeb68\n",
      "429f7bcbde5c6240e776ee92034f7a412352d0\n",
      "af0e54fa2cc91c2a03cb031d2e0bae8b1763ce\n",
      "075caf49b22b9acd4bd97d5659604b1a72919e\n",
      "2705ea81958d6d389fcbed5830eb35019a831b\n",
      "ddc1fea4a4d5075d53cd7c35936ec6b6878f16\n",
      "c897228be26cbead598ca277aac69a5aaee9ec\n",
      "7773721a40cd4ade4bac6449162eb36c274d38\n",
      "21a9d11a682d30e728281854dbba8b4aad0a52\n",
      "01cb73cf6fa473b62d282eb99304fee9e0de01\n",
      "9b26a28f54586ddba035dd15bc7103497754be\n",
      "cda414feaaed110a3fa906c216bfdddfa078ea\n",
      "70d828176b9b039ef0893eef14f4a874eef9ef\n",
      "67458dcfcf50b776493fa91515f177f290c022\n",
      "e2ac6f84bd672da42868f48326dd6841b57aac\n",
      "4002d820126f015bd12feec908b7a3ed17687e\n",
      "e88d0a100f21068436912e5eda51c9af76a109\n",
      "b45a1746b7e1ff19005aae251afc93cdda2904\n",
      "8a390cabcd92de565cd9e29d782d15585b68e5\n",
      "c63f1575fb7aa37e5a5bb3c1c94531d335e378\n",
      "98c9e4cddc4db860e704a66e91d86eed5b7cf3\n",
      "ef96719da0a20360d437e92d1adb47fb4579a3\n",
      "0e5c454ffd0046c06121048f3f40ba1740737a\n",
      "27e05963f00203e88b59998ceef026da7c6933\n",
      "28f53f9cca992686bd4f68b392bce42f1b9209\n",
      "a9df5d446897f0d2d9f0d45b30f623e0d8bd53\n",
      "255ee1b5f5a5593f72f5ed77ffdb70d4a5e9b9\n",
      "82a6272ac24283669873dd134d5f61808cc9aa\n",
      "2058c02487986692d41f71c9978678efa5e74b\n",
      "0d48120cace587d5ab11fe75ab63f02e20ce7a\n",
      "7ee75ec4de827f8d2f6d51bbe7b57d21b648f5\n",
      "8cc76b3734740bd739024d8a77abb728a76547\n",
      "066799bd4f2e41f112c15f710cc021a29eb8a9\n",
      "7abd8d4d43185b250cddb6e92447bf67c495be\n",
      "4190dfad48b29cc61fbe1f671ee3fe96b3674f\n",
      "10842a7c863ef17df381c8e54aec8a54a10dcc\n",
      "d800e71d55870736ead65f817d3f1802ec9fcc\n",
      "228bdbf446d664935dda09b7891ae26f84ee59\n",
      "b5f290745b63e40611b81d376cd9e01a9e3e6e\n",
      "c53124761fb826a4f2d1653944b4242bf7bdfd\n",
      "7630e82f7130ed4972e5a32bfeb698f6833f77\n",
      "f9beaaf6c864cf6dd66490224fc0f3c2dd15a9\n",
      "bb4eeefb3022fb9677c43177cc34fcbe2becb1\n",
      "54057d209ce229db48984dac688711689803c6\n",
      "cd853aba65b11fa83604dd474cecee5f93a262\n",
      "3c618d6a7677e925e2e6af2fcf6b5d6ec6ae71\n",
      "00b84aa7a170b3c0ef339ec3b0cdbc0760e234\n",
      "e39555abc64578f9c157c54bfd831225284b53\n",
      "93d0e6eca690218e5016a4208c455690593ab5\n",
      "f3141a2d6f1b16ae9c82c4a78bfabd2b540975\n",
      "ef6c7f02ac9638a98f8ead66d853a5b81041aa\n",
      "7bdc59390e42f52088e1d1336c9f686b46a512\n",
      "1ffbdb19fd717f24c15d804026716955505ba4\n",
      "a000f28842f5473db3bc90d7d6e66f2103aeba\n",
      "d82a76abf1618f680c8b1db505b89a6a31b38b\n",
      "04405391c44b55d13243edcbda088862a610d3\n",
      "9fa7916641d64b1077e33494670a2baf27e9b0\n",
      "fbf547c54b568e58f56461d322f78396d591a4\n",
      "0adc36ebd6250fbe0f5047abff496e735ec148\n",
      "6ce9ef72ee17be6808616f6c3c96963ba8df37\n",
      "dbb1c0a708dce7819f4400ad5566e7c8fb1223\n",
      "cd7a9fb2c453b691d1ba5c5f83bac2f82b0911\n",
      "7b82f58f35a369818d02620256f39b68029aa5\n",
      "d86b61e7ae1e7d1102fe71c56cea676a928761\n",
      "25b04d5080234209b825c76b248501d5b9bdf0\n",
      "414ac02932d1c2b7c3ca6c634fb1f1d23e2425\n",
      "a5316eeb8c1b4c282a06c1ad2700c98ce03946\n",
      "b4cce49138dbc623a470579e096d7334f4a2f0\n",
      "abcb3bcee78dfddbcf39a455c2bfbdadeacf8a\n",
      "c6b32e02497500d551e12c33efe1d7614a0468\n",
      "07a0ec34ecd5df86d71f616cf583bb4e6f4e94\n",
      "3075ce6de815d9e686631d3801c48d783bcb4a\n",
      "8ee75230283f0f9038309d10e285b5c34dcabb\n",
      "90a5cb576856cc6b776fa653a3874fcd803590\n",
      "main\n",
      "main\n",
      "01.Assignment_01-checkpoint.ipynb\n",
      "02.Assignment_02-checkpoint.ipynb\n",
      "03.Assignment_03-checkpoint.ipynb\n",
      "04.Assignment_04-checkpoint.ipynb\n",
      "05.Assignment_05-checkpoint.ipynb\n",
      "06.Assignment_06-checkpoint.ipynb\n",
      "07.Assignment_07-checkpoint.ipynb\n",
      "Assignment -01-checkpoint.ipynb\n",
      "Assignment -02-checkpoint.ipynb\n",
      "Assignment -03-checkpoint.ipynb\n",
      "Assignment -04-checkpoint.ipynb\n",
      "Assignment -05-checkpoint.ipynb\n",
      "Assignment -06-checkpoint.ipynb\n",
      "Assignment -07-checkpoint.ipynb\n",
      "Assignment -09-checkpoint.ipynb\n",
      "Assignment -10-checkpoint.ipynb\n",
      "Assignment -11-checkpoint.ipynb\n",
      "Assignment -12-checkpoint.ipynb\n",
      "Assignment-08-checkpoint.ipynb\n",
      "Assignment-14-checkpoint.ipynb\n",
      "Assignment-15-checkpoint.ipynb\n",
      "Assignment-16-checkpoint.ipynb\n",
      "Assignment-17-checkpoint.ipynb\n",
      "Assignment-18-checkpoint.ipynb\n",
      "Assignment-19-checkpoint.ipynb\n",
      "Assignment-20-checkpoint.ipynb\n",
      "Assignment-21-checkpoint.ipynb\n",
      "Assinment-13-checkpoint.ipynb\n",
      "zoo.cpython-312.pyc\n"
     ]
    }
   ],
   "source": [
    "import os\n",
    "for folders, subfolders, files in os.walk(os.getcwd()):\n",
    "    for file in files:\n",
    "        print(file)"
   ]
  },
  {
   "cell_type": "markdown",
   "id": "72b9b2ff-b76f-4a76-af89-913881a05a43",
   "metadata": {},
   "source": [
    "#### 5. Create a list of all of the files in your parent directory (minimum five files should be available)."
   ]
  },
  {
   "cell_type": "code",
   "execution_count": 6,
   "id": "feb96b3e-da93-4113-9a01-8eada0a8c826",
   "metadata": {},
   "outputs": [
    {
     "data": {
      "text/plain": [
       "['.git',\n",
       " '.ipynb_checkpoints',\n",
       " 'Assignment -01.ipynb',\n",
       " 'Assignment -02.ipynb',\n",
       " 'Assignment -03.ipynb',\n",
       " 'Assignment -04.ipynb',\n",
       " 'Assignment -05.ipynb',\n",
       " 'Assignment -06.ipynb',\n",
       " 'Assignment -07.ipynb',\n",
       " 'Assignment -09.ipynb',\n",
       " 'Assignment -10.ipynb',\n",
       " 'Assignment -11.ipynb',\n",
       " 'Assignment -12.ipynb',\n",
       " 'Assignment-08.ipynb',\n",
       " 'Assignment-14.ipynb',\n",
       " 'Assignment-15.ipynb',\n",
       " 'Assignment-16.ipynb',\n",
       " 'Assignment-17.ipynb',\n",
       " 'Assignment-18.ipynb',\n",
       " 'Assignment-19.ipynb',\n",
       " 'Assignment-20.ipynb',\n",
       " 'Assignment-21.ipynb',\n",
       " 'Assinment-13.ipynb',\n",
       " 'books.csv',\n",
       " 'books.db',\n",
       " 'image.jpg',\n",
       " 'image_2.jpg',\n",
       " 'new_document.docx',\n",
       " 'programLog.txt',\n",
       " 'test.txt',\n",
       " 'timeseries+fsdsbootcamp2.0.pdf',\n",
       " 'today.txt',\n",
       " 'zoo.py',\n",
       " '__pycache__']"
      ]
     },
     "execution_count": 6,
     "metadata": {},
     "output_type": "execute_result"
    }
   ],
   "source": [
    "import os \n",
    "os.listdir()"
   ]
  },
  {
   "cell_type": "markdown",
   "id": "0c0433e3-26aa-4338-a3c3-44a417784193",
   "metadata": {},
   "source": [
    "#### 6. Use multiprocessing to create three separate processes. Make each one wait a random number of seconds between one and five, print the current time, and then exit."
   ]
  },
  {
   "cell_type": "code",
   "execution_count": 10,
   "id": "96444fc1-28a5-4651-be43-38da13b0f12f",
   "metadata": {},
   "outputs": [],
   "source": [
    "import multiprocessing\n",
    "import random\n",
    "import time\n",
    "from datetime import datetime\n",
    "\n",
    "def print_current_time():\n",
    "    # Generate a random sleep time between 1 and 5 seconds\n",
    "    sleep_time = random.randint(1, 5)\n",
    "    # Wait for the random sleep time\n",
    "    time.sleep(sleep_time)\n",
    "    # Print the current time\n",
    "    current_time = datetime.now().strftime(\"%Y-%m-%d %H:%M:%S\")\n",
    "    print(f\"Process {multiprocessing.current_process().name}: Current time is {current_time}\")\n",
    "\n",
    "if __name__ == \"__main__\":\n",
    "    # Create three separate processes\n",
    "    processes = []\n",
    "    for i in range(3):\n",
    "        process = multiprocessing.Process(target=print_current_time, name=f\"Process-{i+1}\")\n",
    "        processes.append(process)\n",
    "        process.start()\n",
    "\n",
    "    # Wait for all processes to finish\n",
    "    for process in processes:\n",
    "        process.join()\n"
   ]
  },
  {
   "cell_type": "markdown",
   "id": "02f40dc7-e776-4950-9de3-fc900c7c0c9d",
   "metadata": {},
   "source": [
    "## In Jupyter Notebook, the multiprocessing module behaves differently compared to running scripts directly from the command line. Because Jupyter Notebook already has its own multiprocessing environment, running multiprocessing code within it can be challenging due to how Jupyter manages its processes."
   ]
  },
  {
   "cell_type": "raw",
   "id": "0e1bd5de-cf03-4801-bef2-4457143e85af",
   "metadata": {},
   "source": [
    "## outupt for above program\n",
    "Process Process-2: Current time is 2024-03-24 17:17:19\n",
    "Process Process-1: Current time is 2024-03-24 17:17:20\n",
    "Process Process-3: Current time is 2024-03-24 17:17:21"
   ]
  },
  {
   "cell_type": "markdown",
   "id": "20faa1be-a2f1-410d-b228-fa1c861e6b79",
   "metadata": {},
   "source": [
    "#### 7. Create a date object of your day of birth."
   ]
  },
  {
   "cell_type": "code",
   "execution_count": 12,
   "id": "b7478e20-ddc9-4207-bcc3-5f2c384a97ba",
   "metadata": {},
   "outputs": [
    {
     "name": "stdout",
     "output_type": "stream",
     "text": [
      "Date of Birth: 1997-11-12\n"
     ]
    }
   ],
   "source": [
    "from datetime import date\n",
    "\n",
    "year_of_birth = 1997\n",
    "month_of_birth = 11\n",
    "day_of_birth = 12\n",
    "\n",
    "# Create a date object representing your day of birth\n",
    "date_of_birth = date(year_of_birth, month_of_birth, day_of_birth)\n",
    "\n",
    "# Print the date object\n",
    "print(\"Date of Birth:\", date_of_birth)\n"
   ]
  },
  {
   "cell_type": "markdown",
   "id": "58741726-276f-4d2a-9042-14a6645cf4f9",
   "metadata": {},
   "source": [
    "#### 8. What day of the week was your day of birth?"
   ]
  },
  {
   "cell_type": "code",
   "execution_count": 14,
   "id": "964b9451-0d69-41bd-9f64-dbf85842bc86",
   "metadata": {},
   "outputs": [
    {
     "name": "stdout",
     "output_type": "stream",
     "text": [
      "Day of the week for your day of birth: Wednesday\n"
     ]
    }
   ],
   "source": [
    "day_of_week = date_of_birth.weekday()\n",
    "weekdays = [\"Monday\", \"Tuesday\", \"Wednesday\", \"Thursday\", \"Friday\", \"Saturday\", \"Sunday\"]\n",
    "\n",
    "print(\"Day of the week for your day of birth:\", weekdays[day_of_week])"
   ]
  },
  {
   "cell_type": "markdown",
   "id": "4ce1f6e4-573a-4c6b-b619-a2e47b7791eb",
   "metadata": {},
   "source": [
    "#### 9. When will you be (or when were you) 10,000 days old?"
   ]
  },
  {
   "cell_type": "code",
   "execution_count": 16,
   "id": "ddc613db-b0e3-4cb8-b647-5cacad16657c",
   "metadata": {},
   "outputs": [
    {
     "name": "stdout",
     "output_type": "stream",
     "text": [
      "When you will be (or were) 10,000 days old: 2025-03-30\n"
     ]
    }
   ],
   "source": [
    "from datetime import timedelta\n",
    "days_to_add = timedelta(days=10000)\n",
    "date_10000_days_old = date_of_birth + days_to_add\n",
    "\n",
    "# Print the date when you will be (or when you were) 10,000 days old\n",
    "print(\"When you will be (or were) 10,000 days old:\", date_10000_days_old)"
   ]
  },
  {
   "cell_type": "code",
   "execution_count": null,
   "id": "820c9279-b218-4a79-99c8-832585bb96e7",
   "metadata": {},
   "outputs": [],
   "source": []
  }
 ],
 "metadata": {
  "kernelspec": {
   "display_name": "Python 3 (ipykernel)",
   "language": "python",
   "name": "python3"
  },
  "language_info": {
   "codemirror_mode": {
    "name": "ipython",
    "version": 3
   },
   "file_extension": ".py",
   "mimetype": "text/x-python",
   "name": "python",
   "nbconvert_exporter": "python",
   "pygments_lexer": "ipython3",
   "version": "3.12.2"
  }
 },
 "nbformat": 4,
 "nbformat_minor": 5
}
