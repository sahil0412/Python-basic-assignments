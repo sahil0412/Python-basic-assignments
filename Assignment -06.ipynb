{
 "cells": [
  {
   "cell_type": "markdown",
   "id": "76c28c17-f932-41df-9e91-22392fb9cb2f",
   "metadata": {},
   "source": [
    "# Assignment 6 Solutions"
   ]
  },
  {
   "cell_type": "markdown",
   "id": "e3d3d671-0790-4188-8954-93aa3d4e2ebd",
   "metadata": {},
   "source": [
    "#### 1.What are Escape characters ? and how do you use them ?\n",
    "**Ans:** Escape characters represent characters in string values that would otherwise be difficult or impossible to type into code. we can use the backslash `character` to escape a single character or symbol  \n",
    "**example:** `\\t, \\n`\n"
   ]
  },
  {
   "cell_type": "markdown",
   "id": "c3d76a4d-c715-4d5b-bd7b-62a261f14624",
   "metadata": {},
   "source": [
    "#### 2.What do the escape characters n and t stand for ?\n",
    "**Ans:** `\\n` is a newline, `\\t` is a tab"
   ]
  },
  {
   "cell_type": "markdown",
   "id": "d28ddc45-a33b-4f6f-aa36-4e32e05d6819",
   "metadata": {},
   "source": [
    "#### 3.What is the way to include backslash character in a string?\n",
    "**Ans:** The `\\\\` escape character will represent the backslash character in a string"
   ]
  },
  {
   "cell_type": "markdown",
   "id": "693c4fea-a054-442c-81d8-41f9094c431b",
   "metadata": {},
   "source": [
    "#### 4.The string \"Howl's Moving Castle\" is a correct value. Why isn't the single quote character in the word Howl's not escaped a problem ?\n",
    "**Ans:** The string `\"Howl's Moving Castle\"` escaped the problem because it is wrapped inside double quotes. if its wrapped inside single quotes then we have to use escape character `\\'` to show single quote in the final output  \n",
    "`'Howl\\'s Moving Castle'` **`->`** `'Howl's Moving Castle'`"
   ]
  },
  {
   "cell_type": "code",
   "execution_count": 3,
   "id": "7c6fa04f-2b76-4afa-ba1e-df4c20823934",
   "metadata": {},
   "outputs": [
    {
     "name": "stdout",
     "output_type": "stream",
     "text": [
      "Howl's Moving Castle\n"
     ]
    }
   ],
   "source": [
    "s1 = 'Howl\\'s Moving Castle'\n",
    "print(s1)"
   ]
  },
  {
   "cell_type": "markdown",
   "id": "a29f99e8-6886-4ff8-b91f-a1402c006385",
   "metadata": {},
   "source": [
    "#### 5.How do you write a string of newlines if you don't want to use the \\n character?\n",
    "**Ans:**  Multiline string allow you to use newlines in string without the `\\n` escape character  "
   ]
  },
  {
   "cell_type": "code",
   "execution_count": 4,
   "id": "62d4e533-3aa0-447a-8d99-5628f3be4d05",
   "metadata": {},
   "outputs": [
    {
     "name": "stdout",
     "output_type": "stream",
     "text": [
      "I am studying\n",
      "Data Science Course\n"
     ]
    }
   ],
   "source": [
    "# Example:\n",
    "a = '''I am studying\n",
    "Data Science Course'''\n",
    "print(a)"
   ]
  },
  {
   "cell_type": "markdown",
   "id": "5b60c446-4111-4303-9769-13f80ab7ee80",
   "metadata": {},
   "source": [
    "#### 6.What are the values of the given expressions ?\n",
    "'Hello, world!'[1]  \n",
    "'Hello, world!'[0:5]  \n",
    "'Hello, world!'[:5]  \n",
    "'Hello, world!'[3:]  \n",
    "**Ans:** The values for the given expressions are:  \n",
    "'Hello, world!'[1] **`->`**  `'e'`  \n",
    "'Hello, world!'[0:5] **`->`**  `'Hello'`  \n",
    "'Hello, world!'[:5] **`->`**  `'Hello'`  \n",
    "'Hello, world!'[3:] **`->`**  `'lo, world!'`"
   ]
  },
  {
   "cell_type": "markdown",
   "id": "b0d674c8-8992-4d44-bd68-1f49e5cedfa0",
   "metadata": {},
   "source": [
    "#### 7.What are the values of the following expressions ?\n",
    "'Hello'.upper()  \n",
    "'Hello'.upper().isupper()  \n",
    "'Hello'.upper().lower()    \n",
    "\n",
    "**Ans:** The values for the given expressions are:  \n",
    "'Hello'.upper() **`->`** `'HELLO'`  \n",
    "'Hello'.upper().isupper() **`->`**  `True`    \n",
    "'Hello'.upper().lower() **`->`** `'hello'`  "
   ]
  },
  {
   "cell_type": "markdown",
   "id": "b3269be0-42cc-4fd7-8da9-748ad7906124",
   "metadata": {},
   "source": [
    "#### 8.What are the values of the following expressions ?\n",
    "'Remember, remember, the fifth of July.'.split()  \n",
    "-'.join('There can only one.'.split())\n",
    "\n",
    "**Ans:** The values for the given expressions are:  \n",
    "'Remember, remember, the fifth of July.'.split()  **`->`** `['Remember,', 'remember,', 'the', 'fifth', 'of', 'July.']`  \n",
    "'-'.join('There can only one.'.split()) **`->`** `'There-can-only-one.'` "
   ]
  },
  {
   "cell_type": "markdown",
   "id": "a60ec68a-cfe7-4a54-b66f-d3d0b4c1e48e",
   "metadata": {},
   "source": [
    "#### 9.What are the methods for right-justifying, left-justifying and centering a string ?\n",
    "**Ans:** The `rjust()`,`ljust()`,`center()` string methods, respectively"
   ]
  },
  {
   "cell_type": "markdown",
   "id": "d02592ee-b4b7-4d14-85f5-aea5368fc257",
   "metadata": {},
   "source": [
    "#### 10.What is the best way to remove whitespace characters from the start or end ?\n",
    "**Ans:** The `lstrip()` and `rstrip()` methods remove whitesapce characters from the left and right ends of a string respectively. The `strip()` method is used to remove whitespace from both sides"
   ]
  },
  {
   "cell_type": "code",
   "execution_count": null,
   "id": "38ffee09-ff05-45d7-a899-fdda40459293",
   "metadata": {},
   "outputs": [],
   "source": []
  }
 ],
 "metadata": {
  "kernelspec": {
   "display_name": "Python 3 (ipykernel)",
   "language": "python",
   "name": "python3"
  },
  "language_info": {
   "codemirror_mode": {
    "name": "ipython",
    "version": 3
   },
   "file_extension": ".py",
   "mimetype": "text/x-python",
   "name": "python",
   "nbconvert_exporter": "python",
   "pygments_lexer": "ipython3",
   "version": "3.12.2"
  }
 },
 "nbformat": 4,
 "nbformat_minor": 5
}
