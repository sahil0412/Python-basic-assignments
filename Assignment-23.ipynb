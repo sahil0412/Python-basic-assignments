{
 "cells": [
  {
   "cell_type": "markdown",
   "id": "e274b745-232e-49a2-bceb-ca7543d809a6",
   "metadata": {},
   "source": [
    "# Assignment 23 Solutions"
   ]
  },
  {
   "cell_type": "markdown",
   "id": "40231cc1-fb12-4434-87f5-403d236be847",
   "metadata": {},
   "source": [
    "#### 1. What is the result of the code, and why?\n",
    "`>>> def func(a, b=6, c=8):`   \n",
    "`print(a, b, c)`   \n",
    "`>>> func(1, 2)`   \n",
    "**Ans:** The result of the above code is `1 2 8`. its because the function uses the default value of c ie 8 which  is provided at the time of declaration"
   ]
  },
  {
   "cell_type": "code",
   "execution_count": 1,
   "id": "fb7e13b3-ec42-47c9-8da0-2cff3d63d5b7",
   "metadata": {},
   "outputs": [
    {
     "name": "stdout",
     "output_type": "stream",
     "text": [
      "1 2 8\n"
     ]
    }
   ],
   "source": [
    "def func(a,b=6,c=8):\n",
    "    print(a,b,c)\n",
    "func(1,2)"
   ]
  },
  {
   "cell_type": "markdown",
   "id": "5e66bacb-8a7e-4d83-bda8-6db94c812175",
   "metadata": {},
   "source": [
    "#### 2. What is the result of this code, and why?\n",
    "`>>> def func(a, b, c=5):`  \n",
    "`print(a, b, c)`  \n",
    "`>>> func(1, c=3, b=2)`     \n",
    "**Ans:** The result of the above code is `1 2 3`. it is because the function will use default values only when a value for a argument is not provided and if argument name is mentioned while doing a function call, the order of arguments is also ignored by the python interpreter"
   ]
  },
  {
   "cell_type": "code",
   "execution_count": 2,
   "id": "0ab05003-6bdd-404a-893b-0bc465b112e1",
   "metadata": {},
   "outputs": [
    {
     "name": "stdout",
     "output_type": "stream",
     "text": [
      "1 2 3\n"
     ]
    }
   ],
   "source": [
    "def func(a,b,c=5):\n",
    "    print(a,b,c)\n",
    "func(1,c=3,b=2)"
   ]
  },
  {
   "cell_type": "markdown",
   "id": "20991471-e751-46fa-9593-f1a0bf0af025",
   "metadata": {},
   "source": [
    "#### 3. How about this code: what is its result, and why?\n",
    "`>>> def func(a, *pargs):`   \n",
    "`print(a, pargs)`   \n",
    "`>>> func(1, 2, 3)`   \n",
    "**Ans:** The result of the code is `1 (2,3)`. `*pargs` stands for variable length arguments. this format is used when we are not sure about the no of arguments to be passed to a function. all the values under this argument will be stored in a tuple."
   ]
  },
  {
   "cell_type": "code",
   "execution_count": 3,
   "id": "828bb935-b26a-46f5-a7b6-916a332d7058",
   "metadata": {},
   "outputs": [
    {
     "name": "stdout",
     "output_type": "stream",
     "text": [
      "1 (2, 3)\n"
     ]
    }
   ],
   "source": [
    "def func(a, *pargs):\n",
    "    print(a,pargs)\n",
    "func(1,2,3)"
   ]
  },
  {
   "cell_type": "markdown",
   "id": "d1388788-06c8-4940-bdb2-2d03eb0bab81",
   "metadata": {},
   "source": [
    "#### 4. What does this code print, and why?\n",
    "`>>> def func(a, **kargs):`   \n",
    "`print(a, kargs)`   \n",
    "`>>> func(a=1, c=3, b=2)`   \n",
    "**Ans:** The result of the above code is `1 {'c': 3, 'b': 2}`. `**args` stands for variable length keyword arguments. this format is used when we want pass key value pairs as input to a function. All these key value pairs will be stored in a dictionary"
   ]
  },
  {
   "cell_type": "code",
   "execution_count": 4,
   "id": "e91b3861-38b2-4e7a-ad47-a7d9f232489f",
   "metadata": {},
   "outputs": [
    {
     "name": "stdout",
     "output_type": "stream",
     "text": [
      "1 {'c': 3, 'b': 2}\n"
     ]
    }
   ],
   "source": [
    "def func(a,**kargs):\n",
    "    print(a,kargs)\n",
    "func(a=1,c=3,b=2)"
   ]
  },
  {
   "cell_type": "markdown",
   "id": "9dc2b2c7-3ade-4233-b1ab-970fe410daaa",
   "metadata": {},
   "source": [
    "#### 5. What gets printed by this, and explain?\n",
    "`>>> def func(a, b, c=8, d=5): print(a, b, c, d)`   \n",
    "`>>> func(1, *(5, 6))`   \n",
    "    **Ans:** The output of the above is `1 5 6 5`. This reason for this function not throwing an error is because, this function expects 4 arguments. the value for a is provided explicitly whereas for arguments b and c, the function will expand the `*(5,6)` and consider the value of b as 5 and value of c as 6. since the default value of d is provided in function declaration d value will be 5. However it is recommended to use the feature of positional arguments at the end."
   ]
  },
  {
   "cell_type": "code",
   "execution_count": 5,
   "id": "3ae4251a-ad01-4e08-b3c4-8d13c81c8cca",
   "metadata": {},
   "outputs": [
    {
     "name": "stdout",
     "output_type": "stream",
     "text": [
      "1 5 6 5\n"
     ]
    }
   ],
   "source": [
    "def func(a,b,c=8,d=5):\n",
    "    print(a,b,c,d)\n",
    "func(1,*(5,6))"
   ]
  },
  {
   "cell_type": "markdown",
   "id": "66e0c4b3-b7e5-4ef1-b741-b6c7c7a0eab2",
   "metadata": {},
   "source": [
    "#### 6. what is the result of this, and explain?\n",
    "`>>> def func(a, b, c): a = 2; b[0] = 'x'; c['a'] = 'y'`   \n",
    "`>>> l=1; m=[1]; n={'a':0}`   \n",
    "`>>> func(l, m, n)`   \n",
    "`>>> l, m, n`   \n",
    "**Ans:** The output of above code is `1, ['x'], {'a': 'y'}`.\n",
    "1. Eventhough Python gives importance to indentation. its provides a facility to declare an entire function in one single line. where statements in a function body are sepereated by `;`\n",
    "2. When `l,m,n` are provided as inputs to the function. its modifies the values of l,m,n and sets the value of `l=2` ,`m=['x']` and `n={'a':'y'}`"
   ]
  },
  {
   "cell_type": "code",
   "execution_count": 6,
   "id": "08e41f68-d8bc-4132-8eee-591a90b2dfd9",
   "metadata": {},
   "outputs": [
    {
     "data": {
      "text/plain": [
       "(1, ['x'], {'a': 'y'})"
      ]
     },
     "execution_count": 6,
     "metadata": {},
     "output_type": "execute_result"
    }
   ],
   "source": [
    "def func(a, b, c): a = 2; b[0] = 'x'; c['a'] = 'y'\n",
    "l=1; m=[1]; n={'a':0}\n",
    "func(l, m, n)\n",
    "l,m,n"
   ]
  },
  {
   "cell_type": "markdown",
   "id": "837070d2-2ad5-4b5a-9675-8e94ba8698e2",
   "metadata": {},
   "source": [
    "#### 1. `l` is a simple integer variable, so it is passed by value to the function. Changes made to a inside the function don't affect the value of l outside the function.\n",
    "#### 2. `m` is a list, and lists are mutable objects in Python. So, when m is passed to the function, the function modifies the first element of the list m by replacing it with 'x'. This change affects m outside the function as well.\n",
    "#### 3. `n` is a dictionary, and dictionaries are mutable objects. Similar to the list m, the function modifies the value associated with key 'a' in the dictionary n to 'y'. This change affects n outside the function as well."
   ]
  },
  {
   "cell_type": "code",
   "execution_count": null,
   "id": "17b8f239-847e-408c-95a3-067811d00c93",
   "metadata": {},
   "outputs": [],
   "source": []
  }
 ],
 "metadata": {
  "kernelspec": {
   "display_name": "Python 3 (ipykernel)",
   "language": "python",
   "name": "python3"
  },
  "language_info": {
   "codemirror_mode": {
    "name": "ipython",
    "version": 3
   },
   "file_extension": ".py",
   "mimetype": "text/x-python",
   "name": "python",
   "nbconvert_exporter": "python",
   "pygments_lexer": "ipython3",
   "version": "3.12.2"
  }
 },
 "nbformat": 4,
 "nbformat_minor": 5
}
